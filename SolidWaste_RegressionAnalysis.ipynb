{
 "cells": [
  {
   "cell_type": "markdown",
   "id": "e6f5668c-7514-4a92-a402-72238613ec8a",
   "metadata": {},
   "source": [
    "# **SOLID WASTE DATA ASSESSMENT**\n",
    "\n",
    "Regression Analysis\n",
    "\n",
    "-Daniel Navarro\n",
    "<br>"
   ]
  },
  {
   "cell_type": "markdown",
   "id": "4a66e2ef-762b-4cc2-8105-e1385e232e58",
   "metadata": {},
   "source": [
    "---"
   ]
  },
  {
   "cell_type": "markdown",
   "id": "4bccfa80-e740-48b6-829b-50df1c3a4d81",
   "metadata": {},
   "source": [
    "DATA DESCRIPTION: Data on solid waste was simulated from economic models and information was\n",
    "compiled on a variety of variables affecting the amount of solid waste produced in a region. Measurements\n",
    "on nine land-use variables are included in the data set for 40 regions in a nine-county area. A major goal in\n",
    "the analysis of this data is to assess the predictive ability of the land-use variables (x1 − x9) on the amount\n",
    "of solid waste (y) that is generated from the economic models. The data is given in a separate file. Variables\n",
    "in the data set are described below:"
   ]
  },
  {
   "cell_type": "markdown",
   "id": "bda1886b-ce5a-476b-9e4f-c3c57c767359",
   "metadata": {},
   "source": [
    "<img src=\"Exam.png\">"
   ]
  },
  {
   "cell_type": "markdown",
   "id": "9239d08c-ac60-466d-84d0-3981d7c0379b",
   "metadata": {},
   "source": [
    "## **Problem 1:**\n",
    "### (a) **Present a multiple regression model for y using all nine predictor variables (described above), describe the terms in the model, and state all of the model assumptions. At this stage of the problem, do not make transformations on any variables for this problem!**\n"
   ]
  },
  {
   "cell_type": "code",
   "execution_count": 126,
   "id": "58db87fd-fe6a-4dff-bdc5-1085cc12dae7",
   "metadata": {},
   "outputs": [],
   "source": [
    "# Load libraries \n",
    "import pandas as pd\n",
    "import numpy as np\n",
    "import matplotlib.pyplot as plt\n",
    "import pylab\n",
    "import seaborn as sns\n",
    "import scipy as sp\n",
    "from scipy import stats \n",
    "import statsmodels.api as sm\n",
    "from statsmodels.formula.api import ols \n",
    "import statsmodels.formula.api as smf\n",
    "# Import csv file and delete the last observation.\n",
    "df = pd.read_excel(r'C:\\Users\\dnava\\OneDrive\\Documents\\Regression Analysis\\Test_DataSet.xlsx')\n",
    "\n",
    "df.describe()\n",
    "%matplotlib inline"
   ]
  },
  {
   "cell_type": "code",
   "execution_count": 4,
   "id": "c1ed445f-ab5c-4662-8fb3-4889fb3fa122",
   "metadata": {},
   "outputs": [
    {
     "data": {
      "text/html": [
       "<div>\n",
       "<style scoped>\n",
       "    .dataframe tbody tr th:only-of-type {\n",
       "        vertical-align: middle;\n",
       "    }\n",
       "\n",
       "    .dataframe tbody tr th {\n",
       "        vertical-align: top;\n",
       "    }\n",
       "\n",
       "    .dataframe thead th {\n",
       "        text-align: right;\n",
       "    }\n",
       "</style>\n",
       "<table border=\"1\" class=\"dataframe\">\n",
       "  <thead>\n",
       "    <tr style=\"text-align: right;\">\n",
       "      <th></th>\n",
       "      <th>Obs</th>\n",
       "      <th>y</th>\n",
       "      <th>x1</th>\n",
       "      <th>x2</th>\n",
       "      <th>x3</th>\n",
       "      <th>x4</th>\n",
       "      <th>x5</th>\n",
       "      <th>x6</th>\n",
       "      <th>x7</th>\n",
       "      <th>x8</th>\n",
       "      <th>x9</th>\n",
       "    </tr>\n",
       "  </thead>\n",
       "  <tbody>\n",
       "    <tr>\n",
       "      <th>Obs</th>\n",
       "      <td>1.000000</td>\n",
       "      <td>-0.154853</td>\n",
       "      <td>0.189295</td>\n",
       "      <td>0.173653</td>\n",
       "      <td>0.127653</td>\n",
       "      <td>-0.197166</td>\n",
       "      <td>-0.171663</td>\n",
       "      <td>-0.145331</td>\n",
       "      <td>-0.245533</td>\n",
       "      <td>-0.160277</td>\n",
       "      <td>-0.363438</td>\n",
       "    </tr>\n",
       "    <tr>\n",
       "      <th>y</th>\n",
       "      <td>-0.154853</td>\n",
       "      <td>1.000000</td>\n",
       "      <td>0.185554</td>\n",
       "      <td>0.483217</td>\n",
       "      <td>0.642395</td>\n",
       "      <td>0.767578</td>\n",
       "      <td>0.822864</td>\n",
       "      <td>0.818237</td>\n",
       "      <td>0.785979</td>\n",
       "      <td>0.641617</td>\n",
       "      <td>-0.055053</td>\n",
       "    </tr>\n",
       "    <tr>\n",
       "      <th>x1</th>\n",
       "      <td>0.189295</td>\n",
       "      <td>0.185554</td>\n",
       "      <td>1.000000</td>\n",
       "      <td>0.393163</td>\n",
       "      <td>0.419575</td>\n",
       "      <td>0.137772</td>\n",
       "      <td>0.233448</td>\n",
       "      <td>0.061787</td>\n",
       "      <td>0.125908</td>\n",
       "      <td>0.144955</td>\n",
       "      <td>-0.041087</td>\n",
       "    </tr>\n",
       "    <tr>\n",
       "      <th>x2</th>\n",
       "      <td>0.173653</td>\n",
       "      <td>0.483217</td>\n",
       "      <td>0.393163</td>\n",
       "      <td>1.000000</td>\n",
       "      <td>0.888523</td>\n",
       "      <td>0.281951</td>\n",
       "      <td>0.198881</td>\n",
       "      <td>0.253193</td>\n",
       "      <td>0.252327</td>\n",
       "      <td>0.213226</td>\n",
       "      <td>-0.104227</td>\n",
       "    </tr>\n",
       "    <tr>\n",
       "      <th>x3</th>\n",
       "      <td>0.127653</td>\n",
       "      <td>0.642395</td>\n",
       "      <td>0.419575</td>\n",
       "      <td>0.888523</td>\n",
       "      <td>1.000000</td>\n",
       "      <td>0.464348</td>\n",
       "      <td>0.386748</td>\n",
       "      <td>0.425604</td>\n",
       "      <td>0.461990</td>\n",
       "      <td>0.348098</td>\n",
       "      <td>-0.121742</td>\n",
       "    </tr>\n",
       "    <tr>\n",
       "      <th>x4</th>\n",
       "      <td>-0.197166</td>\n",
       "      <td>0.767578</td>\n",
       "      <td>0.137772</td>\n",
       "      <td>0.281951</td>\n",
       "      <td>0.464348</td>\n",
       "      <td>1.000000</td>\n",
       "      <td>0.919851</td>\n",
       "      <td>0.911191</td>\n",
       "      <td>0.979056</td>\n",
       "      <td>0.910519</td>\n",
       "      <td>-0.008260</td>\n",
       "    </tr>\n",
       "    <tr>\n",
       "      <th>x5</th>\n",
       "      <td>-0.171663</td>\n",
       "      <td>0.822864</td>\n",
       "      <td>0.233448</td>\n",
       "      <td>0.198881</td>\n",
       "      <td>0.386748</td>\n",
       "      <td>0.919851</td>\n",
       "      <td>1.000000</td>\n",
       "      <td>0.907625</td>\n",
       "      <td>0.928650</td>\n",
       "      <td>0.893080</td>\n",
       "      <td>-0.033440</td>\n",
       "    </tr>\n",
       "    <tr>\n",
       "      <th>x6</th>\n",
       "      <td>-0.145331</td>\n",
       "      <td>0.818237</td>\n",
       "      <td>0.061787</td>\n",
       "      <td>0.253193</td>\n",
       "      <td>0.425604</td>\n",
       "      <td>0.911191</td>\n",
       "      <td>0.907625</td>\n",
       "      <td>1.000000</td>\n",
       "      <td>0.915448</td>\n",
       "      <td>0.793063</td>\n",
       "      <td>0.020601</td>\n",
       "    </tr>\n",
       "    <tr>\n",
       "      <th>x7</th>\n",
       "      <td>-0.245533</td>\n",
       "      <td>0.785979</td>\n",
       "      <td>0.125908</td>\n",
       "      <td>0.252327</td>\n",
       "      <td>0.461990</td>\n",
       "      <td>0.979056</td>\n",
       "      <td>0.928650</td>\n",
       "      <td>0.915448</td>\n",
       "      <td>1.000000</td>\n",
       "      <td>0.904299</td>\n",
       "      <td>0.044641</td>\n",
       "    </tr>\n",
       "    <tr>\n",
       "      <th>x8</th>\n",
       "      <td>-0.160277</td>\n",
       "      <td>0.641617</td>\n",
       "      <td>0.144955</td>\n",
       "      <td>0.213226</td>\n",
       "      <td>0.348098</td>\n",
       "      <td>0.910519</td>\n",
       "      <td>0.893080</td>\n",
       "      <td>0.793063</td>\n",
       "      <td>0.904299</td>\n",
       "      <td>1.000000</td>\n",
       "      <td>-0.038640</td>\n",
       "    </tr>\n",
       "    <tr>\n",
       "      <th>x9</th>\n",
       "      <td>-0.363438</td>\n",
       "      <td>-0.055053</td>\n",
       "      <td>-0.041087</td>\n",
       "      <td>-0.104227</td>\n",
       "      <td>-0.121742</td>\n",
       "      <td>-0.008260</td>\n",
       "      <td>-0.033440</td>\n",
       "      <td>0.020601</td>\n",
       "      <td>0.044641</td>\n",
       "      <td>-0.038640</td>\n",
       "      <td>1.000000</td>\n",
       "    </tr>\n",
       "  </tbody>\n",
       "</table>\n",
       "</div>"
      ],
      "text/plain": [
       "          Obs         y        x1        x2        x3        x4        x5  \\\n",
       "Obs  1.000000 -0.154853  0.189295  0.173653  0.127653 -0.197166 -0.171663   \n",
       "y   -0.154853  1.000000  0.185554  0.483217  0.642395  0.767578  0.822864   \n",
       "x1   0.189295  0.185554  1.000000  0.393163  0.419575  0.137772  0.233448   \n",
       "x2   0.173653  0.483217  0.393163  1.000000  0.888523  0.281951  0.198881   \n",
       "x3   0.127653  0.642395  0.419575  0.888523  1.000000  0.464348  0.386748   \n",
       "x4  -0.197166  0.767578  0.137772  0.281951  0.464348  1.000000  0.919851   \n",
       "x5  -0.171663  0.822864  0.233448  0.198881  0.386748  0.919851  1.000000   \n",
       "x6  -0.145331  0.818237  0.061787  0.253193  0.425604  0.911191  0.907625   \n",
       "x7  -0.245533  0.785979  0.125908  0.252327  0.461990  0.979056  0.928650   \n",
       "x8  -0.160277  0.641617  0.144955  0.213226  0.348098  0.910519  0.893080   \n",
       "x9  -0.363438 -0.055053 -0.041087 -0.104227 -0.121742 -0.008260 -0.033440   \n",
       "\n",
       "           x6        x7        x8        x9  \n",
       "Obs -0.145331 -0.245533 -0.160277 -0.363438  \n",
       "y    0.818237  0.785979  0.641617 -0.055053  \n",
       "x1   0.061787  0.125908  0.144955 -0.041087  \n",
       "x2   0.253193  0.252327  0.213226 -0.104227  \n",
       "x3   0.425604  0.461990  0.348098 -0.121742  \n",
       "x4   0.911191  0.979056  0.910519 -0.008260  \n",
       "x5   0.907625  0.928650  0.893080 -0.033440  \n",
       "x6   1.000000  0.915448  0.793063  0.020601  \n",
       "x7   0.915448  1.000000  0.904299  0.044641  \n",
       "x8   0.793063  0.904299  1.000000 -0.038640  \n",
       "x9   0.020601  0.044641 -0.038640  1.000000  "
      ]
     },
     "execution_count": 4,
     "metadata": {},
     "output_type": "execute_result"
    }
   ],
   "source": [
    "df.corr()"
   ]
  },
  {
   "cell_type": "markdown",
   "id": "f9f5e7c5-44f6-4251-be67-34fac17f44b5",
   "metadata": {},
   "source": [
    "We can see some strong positive correlations between $X_3$ & $X_2$, and $X_4$, $X_8$, $X_7$, $X_6$ and $X_5$. <br> **Y** is strongly positively correlated with $X_3$, $X_4$, $X_8$, $X_7$, $X_6$ and $X_5$"
   ]
  },
  {
   "cell_type": "code",
   "execution_count": 5,
   "id": "38a11293-9a67-40ae-86fc-b22703041086",
   "metadata": {},
   "outputs": [
    {
     "name": "stdout",
     "output_type": "stream",
     "text": [
      "                            OLS Regression Results                            \n",
      "==============================================================================\n",
      "Dep. Variable:                      y   R-squared:                       0.886\n",
      "Model:                            OLS   Adj. R-squared:                  0.852\n",
      "Method:                 Least Squares   F-statistic:                     25.93\n",
      "Date:                Mon, 17 Oct 2022   Prob (F-statistic):           8.68e-12\n",
      "Time:                        22:19:25   Log-Likelihood:                 27.898\n",
      "No. Observations:                  40   AIC:                            -35.80\n",
      "Df Residuals:                      30   BIC:                            -18.91\n",
      "Df Model:                           9                                         \n",
      "Covariance Type:            nonrobust                                         \n",
      "==============================================================================\n",
      "                 coef    std err          t      P>|t|      [0.025      0.975]\n",
      "------------------------------------------------------------------------------\n",
      "Intercept      0.1197      0.030      3.996      0.000       0.059       0.181\n",
      "x1         -4.928e-05   1.86e-05     -2.651      0.013   -8.72e-05   -1.13e-05\n",
      "x2             0.0002      0.000      1.413      0.168   -9.94e-05       0.001\n",
      "x3             0.0001   9.31e-05      1.362      0.183   -6.33e-05       0.000\n",
      "x4            -0.0004      0.001     -0.552      0.585      -0.002       0.001\n",
      "x5             0.0155      0.003      5.104      0.000       0.009       0.022\n",
      "x6            -0.0004      0.002     -0.245      0.808      -0.004       0.003\n",
      "x7             0.0008      0.001      0.595      0.556      -0.002       0.003\n",
      "x8         -2.202e-05   7.32e-06     -3.010      0.005    -3.7e-05   -7.08e-06\n",
      "x9            -0.0004      0.027     -0.014      0.989      -0.056       0.055\n",
      "==============================================================================\n",
      "Omnibus:                        1.717   Durbin-Watson:                   1.770\n",
      "Prob(Omnibus):                  0.424   Jarque-Bera (JB):                1.158\n",
      "Skew:                           0.416   Prob(JB):                        0.561\n",
      "Kurtosis:                       3.060   Cond. No.                     1.57e+04\n",
      "==============================================================================\n",
      "\n",
      "Notes:\n",
      "[1] Standard Errors assume that the covariance matrix of the errors is correctly specified.\n",
      "[2] The condition number is large, 1.57e+04. This might indicate that there are\n",
      "strong multicollinearity or other numerical problems.\n"
     ]
    }
   ],
   "source": [
    "# fit a full linear model\n",
    "model_full = ols('y~x1+x2+x3+x4+x5+x6+x7+x8+x9', data = df).fit()\n",
    "print(model_full.summary())"
   ]
  },
  {
   "cell_type": "markdown",
   "id": "f7769fde-f635-4f5f-8d5d-dd1c37927f67",
   "metadata": {},
   "source": [
    "<br>In our full MLR model, the response variable y corresponds to solid waste while x1 - x9 are the predictor variables that we will use to estimate y.\n",
    "<br>\n",
    "From the full regression model we get the following statistics:\n",
    " - R-squared: 0.886\n",
    " - Adj. R-squared: 0.852\n",
    " - AIC: -35.80\n",
    " - BIC: -18.91\n",
    "  <br>\n",
    "From the measures for model selection we can see that $R^2$ could improve, maybe by modelling the MLR with a different combination of predictors or by fitting a different model (polynomial, splines, etc.).\n",
    " <br>\n",
    "We need to fit different models and compare with the information criterias to determine which model is best (lower score indicates a better fit). It is important to pay attention to the note suggesting multicollinearity of the data.<br> \n",
    " "
   ]
  },
  {
   "cell_type": "markdown",
   "id": "a552b3c8-d123-4eae-aaee-91a727c1db4e",
   "metadata": {},
   "source": [
    "<div class = 'alert alert-success'>\n",
    "ASSUMPTIONS:\n",
    "</div>\n",
    "\n",
    "\n",
    "- response variable (y) has a linear relationship with at list one of the regressors (x1\tx2\tx3\tx4\tx5\tx6\tx7\tx8\tx9)\n",
    "- Independence: residuals of the model are not correlated (observations are independent)\n",
    "- Homoscedasticity: residuals have constant variance at every point in the linear model\n",
    "- Normality: the residuals of the model are normally distributed for every variable\n",
    "- No multicollinearity: none of the predictor variables are highly linearly correlated with each other"
   ]
  },
  {
   "cell_type": "markdown",
   "id": "09d6747f-75fc-4d2f-895d-3234d76632f0",
   "metadata": {},
   "source": [
    "### (b) **Compute and present the prediction equation corresponding to the model described in part (a).**\n",
    "\n",
    "\n"
   ]
  },
  {
   "cell_type": "markdown",
   "id": "8b25b0e9-1b9f-4c2e-a2cf-509c634d75ae",
   "metadata": {},
   "source": [
    "\n",
    "$y^*$ = $\\beta_0$ + $\\beta_1$$Xindus$ + $\\beta_2$$Xmetal$ + $\\beta_3$$Xwhole$ + $\\beta_4$$Xretail$ + $\\beta_5$$Xrest$ + $\\beta_6$$Xfinan$ + $\\beta_7$$Xmisc$ + $\\beta_8$$Xhome$ + $\\beta_9$$Xother$ <br> \n",
    "<div class = 'alert alert-success'>\n",
    "$y^*$ =  0.1197 - 4.928e-05$Xindus$ + 0.0002$Xmetal$ + 0.0001$Xwhole$ - 0.0004$Xretail$ + 0.0155$Xrest$ - 0.0004$Xfinan$ + 0.0008$Xmisc$ - 2.202e-05$Xhome$ - 0.0004$Xother$ \n",
    "</div>\n",
    "$y^*$ = the predicted value of the dependent variable <br>\n",
    "$\\beta_0$ = the y-intercept (value of y when all other parameters are set to 0)<br>\n",
    "$\\beta_1X_1$ = the regression coefficient ($\\beta_1$) of the first independent variable ($X_1$) (the effect that increasing the value of the independent variable has on the predicted y value)<br>\n",
    "$\\beta_nX_n$ = the regression coefficient of the last independent variable<br>\n",
    "$\\epsilon$ = model error (how much variation there is in our estimate of y) $E[\\epsilon_i]=0$"
   ]
  },
  {
   "cell_type": "code",
   "execution_count": 6,
   "id": "ecd6ce70-3e8e-49ca-ae43-6cec12d6ccf9",
   "metadata": {},
   "outputs": [
    {
     "name": "stdout",
     "output_type": "stream",
     "text": [
      "[0.60370697 1.80088063 0.18953493 0.29673747 0.12744084 0.07974561\n",
      " 0.67953776 0.69959719 0.5115618  0.10631271 0.2115734  0.35362924\n",
      " 0.25022361 0.23428507 1.05178088 0.28296229 0.23245214 0.14465573\n",
      " 0.17692315 0.17372935 0.25297987 0.12914346 0.17970461 0.15174003\n",
      " 0.19984763 0.35611824 0.11288618 0.9832358  0.31275308 0.19663043\n",
      " 0.20963531 0.23216899 0.43748487 0.40120436 0.83028494 0.29940556\n",
      " 0.14260393 0.29228454 0.37840812 0.89980925]\n"
     ]
    }
   ],
   "source": [
    "# Computation of predicted y values\n",
    "full_pred = model_full.predict()\n",
    "print(full_pred)"
   ]
  },
  {
   "cell_type": "code",
   "execution_count": 7,
   "id": "869dd624-d142-4d16-aa46-71b0221a9ad5",
   "metadata": {},
   "outputs": [
    {
     "data": {
      "text/plain": [
       "Text(0, 0.5, 'Observed data')"
      ]
     },
     "execution_count": 7,
     "metadata": {},
     "output_type": "execute_result"
    },
    {
     "data": {
      "image/png": "[encoded data removed]",
      "text/plain": [
       "<Figure size 576x432 with 1 Axes>"
      ]
     },
     "metadata": {
      "needs_background": "light"
     },
     "output_type": "display_data"
    }
   ],
   "source": [
    "# Plot the prediction versus observed values\n",
    "f, ax = plt.subplots(figsize=(8,6))\n",
    "plt.scatter(full_pred,df['y'])\n",
    "ident = (min(full_pred.min(),df['y'].min()),max(full_pred.max(),df['y'].max()))\n",
    "ax.plot(ident,ident)\n",
    "ax.set_xlabel('Predicted data')\n",
    "ax.set_ylabel('Observed data')"
   ]
  },
  {
   "cell_type": "markdown",
   "id": "7c873608-3642-42a4-b58e-1fcd959490b0",
   "metadata": {},
   "source": [
    "We can see from the predicted vs. observed data that there is some variation present so a better fit will be seeked."
   ]
  },
  {
   "cell_type": "code",
   "execution_count": 8,
   "id": "478343e6-7503-43b0-93b0-60e453f730bc",
   "metadata": {},
   "outputs": [],
   "source": [
    "influence = model_full.get_influence()"
   ]
  },
  {
   "cell_type": "code",
   "execution_count": 9,
   "id": "a22e36ca-99d4-4f77-9263-872a3541ab59",
   "metadata": {},
   "outputs": [
    {
     "data": {
      "image/png": "[encoded data removed]",
      "text/plain": [
       "<Figure size 432x288 with 1 Axes>"
      ]
     },
     "metadata": {
      "needs_background": "light"
     },
     "output_type": "display_data"
    },
    {
     "data": {
      "text/plain": [
       "<Figure size 576x432 with 0 Axes>"
      ]
     },
     "metadata": {},
     "output_type": "display_data"
    }
   ],
   "source": [
    "# The Q-Q plot is not too bad, only towards the tail we might need some transformation but overall the residuals follow normalithy assumption\n",
    "# Q-Q plot: helps determine if the residuals follow a normal distribution. Data should roughly follow a 45 degree angle.\n",
    "residuals_full = model_full.resid\n",
    "fig = sm.qqplot(residuals_full, fit = True, line= '45')\n",
    "f = plt.figure()\n",
    "f.set_figwidth(8)\n",
    "f.set_figheight(6)\n",
    "plt.show()"
   ]
  },
  {
   "cell_type": "markdown",
   "id": "f8f596fb-d5ae-4324-b195-916ef016c8b9",
   "metadata": {},
   "source": [
    "### (c) **Present and use R-Studentized residual plots for each x to determine what, if any, transformations are needed on any of the nine x variables. Also, using the appropriate residual plot, determine if any transformation is needed on y. Compare results from these plots to a Box-Cox analysis of the residuals.**"
   ]
  },
  {
   "cell_type": "markdown",
   "id": "221d81af-a745-4053-b75b-476b635fbb7b",
   "metadata": {},
   "source": [
    "Normality assumption is not met at the end of the tail."
   ]
  },
  {
   "cell_type": "markdown",
   "id": "79f67294-322b-4ef4-ae09-95072e1c7762",
   "metadata": {},
   "source": [
    "### R-Studentized residual plots for each x: checks non-constant variance and looks for non-linearity"
   ]
  },
  {
   "cell_type": "markdown",
   "id": "9f5f46cb-51fd-4a20-8500-555bf2f8b626",
   "metadata": {},
   "source": [
    "These residual plots signify that we have not completely captured the predictive information of the data in our model, which is why it is seeping into our residuals.<br>\n",
    "Predictors that need obvious transformations include: X9, X8, X7, X6 and X5 because they have nonlinear patterns. There also seems to be outliers in the data that I want to check. <br>\n",
    "<div class = 'alert alert-success'>\n",
    "- X5, X6, X7, X8: might need a $1/X_i$ transformation because they are partially linear <br>\n",
    "- X9: might need a log transformation\n",
    "</div>"
   ]
  },
  {
   "cell_type": "code",
   "execution_count": 10,
   "id": "86ef5b99-0c31-4b39-8f52-bfbe2e58f37d",
   "metadata": {},
   "outputs": [
    {
     "data": {
      "image/png": "[encoded data removed]",
      "text/plain": [
       "<Figure size 2520x1440 with 9 Axes>"
      ]
     },
     "metadata": {
      "needs_background": "light"
     },
     "output_type": "display_data"
    }
   ],
   "source": [
    "plt.subplots(figsize=(35,20))\n",
    "plt.subplot(2, 9, 1) \n",
    "plt.scatter(df.x1,influence.resid_studentized_external)  \n",
    "plt.xlabel('x1')\n",
    "plt.ylabel('R - Student Residual')\n",
    "plt.axhline(0)\n",
    "\n",
    "plt.subplot(2, 9, 2) \n",
    "plt.scatter(df.x2,influence.resid_studentized_external)\n",
    "plt.xlabel('x2')\n",
    "plt.axhline(0)\n",
    "\n",
    "plt.subplot(2, 9, 3) #\n",
    "plt.scatter(df.x3,influence.resid_studentized_external)\n",
    "plt.xlabel('x3')\n",
    "plt.axhline(0)\n",
    "\n",
    "plt.subplot(2, 9, 4) \n",
    "plt.scatter(df.x4,influence.resid_studentized_external)\n",
    "plt.xlabel('x4')\n",
    "plt.axhline(0)\n",
    "\n",
    "plt.subplot(2, 9, 5) \n",
    "plt.scatter(df.x5,influence.resid_studentized_external)\n",
    "plt.xlabel('x5')\n",
    "plt.axhline(0)\n",
    "\n",
    "plt.subplot(2, 9, 6) \n",
    "plt.scatter(df.x6,influence.resid_studentized_external)\n",
    "plt.xlabel('x6')\n",
    "plt.axhline(0)\n",
    "\n",
    "plt.subplot(2, 9, 7) #\n",
    "plt.scatter(df.x7,influence.resid_studentized_external)\n",
    "plt.xlabel('x7')\n",
    "plt.axhline(0)\n",
    "\n",
    "plt.subplot(2, 9, 8) \n",
    "plt.scatter(df.x8,influence.resid_studentized_external)\n",
    "plt.xlabel('x8')\n",
    "plt.axhline(0)\n",
    "\n",
    "plt.subplot(2, 9, 9) \n",
    "plt.scatter(df.x9,influence.resid_studentized_external)\n",
    "plt.xlabel('x9')\n",
    "plt.axhline(0)\n",
    "\n",
    "plt.show()"
   ]
  },
  {
   "cell_type": "code",
   "execution_count": 11,
   "id": "3c16a929-a96d-49ac-8171-5ada8065a699",
   "metadata": {},
   "outputs": [
    {
     "data": {
      "text/plain": [
       "<matplotlib.lines.Line2D at 0x21e901995b0>"
      ]
     },
     "execution_count": 11,
     "metadata": {},
     "output_type": "execute_result"
    },
    {
     "data": {
      "image/png": "[encoded data removed]",
      "text/plain": [
       "<Figure size 432x288 with 1 Axes>"
      ]
     },
     "metadata": {
      "needs_background": "light"
     },
     "output_type": "display_data"
    }
   ],
   "source": [
    "plt.scatter(model_full.fittedvalues,influence.resid_studentized)\n",
    "plt.xlabel('Fitted values')\n",
    "plt.ylabel('Studentized Residual')\n",
    "plt.axhline(0)"
   ]
  },
  {
   "cell_type": "markdown",
   "id": "34c2ef3c-5abf-46af-b88d-2f2b2e609f35",
   "metadata": {},
   "source": [
    "<div class = 'alert alert-success'>\n",
    "Log transformation on y is needed.\n",
    "<br>\n",
    "<br>\n",
    "\n",
    "From the Studentized Residuals vs. Fitted Values plot we can see that the residuals are concentrated more to the left side of the plot with some leverage points at -3 and 3. We need to check if this points are influential points. A log transformation is recommended for the fitted values of y to make the variance more spread out. We see that the variance is not constant, the data seems to have a curvature and is not linear. </div>"
   ]
  },
  {
   "cell_type": "markdown",
   "id": "725f51a4-b2c5-4476-b1f5-bd4ae53a5a72",
   "metadata": {},
   "source": [
    "### **Box_Cox ANALYSIS**: Transforms any non-linear distribution to normal\n",
    "Displays:  \n",
    " - The minimum value\n",
    " - The first quartile (the 25th percentile)\n",
    "- The median value\n",
    "- The third quartile (the 75th percentile)\n",
    "- The maximum value"
   ]
  },
  {
   "cell_type": "code",
   "execution_count": 13,
   "id": "16e02618-685b-4dd1-bdd7-eb062b96ea81",
   "metadata": {},
   "outputs": [
    {
     "name": "stderr",
     "output_type": "stream",
     "text": [
      "C:\\Users\\dnava\\AppData\\Local\\Temp\\ipykernel_2216\\1047983139.py:12: UserWarning: \n",
      "\n",
      "`distplot` is a deprecated function and will be removed in seaborn v0.14.0.\n",
      "\n",
      "Please adapt your code to use either `displot` (a figure-level function with\n",
      "similar flexibility) or `kdeplot` (an axes-level function for kernel density plots).\n",
      "\n",
      "For a guide to updating your code to use the new functions, please see\n",
      "https://gist.github.com/mwaskom/de44147ed2974457ad6372750bbe5751\n",
      "\n",
      "  sns.distplot(df.y, hist = False, kde = True,\n",
      "C:\\Users\\dnava\\AppData\\Roaming\\jupyterlab-desktop\\jlab_server\\lib\\site-packages\\seaborn\\distributions.py:2517: FutureWarning: \n",
      "\n",
      "`shade` is now deprecated in favor of `fill`; setting `fill=True`.\n",
      "This will become an error in seaborn v0.14.0; please update your code.\n",
      "\n",
      "  kdeplot(**{axis: a}, ax=ax, color=kde_color, **kde_kws)\n",
      "C:\\Users\\dnava\\AppData\\Local\\Temp\\ipykernel_2216\\1047983139.py:16: UserWarning: \n",
      "\n",
      "`distplot` is a deprecated function and will be removed in seaborn v0.14.0.\n",
      "\n",
      "Please adapt your code to use either `displot` (a figure-level function with\n",
      "similar flexibility) or `kdeplot` (an axes-level function for kernel density plots).\n",
      "\n",
      "For a guide to updating your code to use the new functions, please see\n",
      "https://gist.github.com/mwaskom/de44147ed2974457ad6372750bbe5751\n",
      "\n",
      "  sns.distplot(fitted_data, hist = False, kde = True,\n",
      "C:\\Users\\dnava\\AppData\\Roaming\\jupyterlab-desktop\\jlab_server\\lib\\site-packages\\seaborn\\distributions.py:2517: FutureWarning: \n",
      "\n",
      "`shade` is now deprecated in favor of `fill`; setting `fill=True`.\n",
      "This will become an error in seaborn v0.14.0; please update your code.\n",
      "\n",
      "  kdeplot(**{axis: a}, ax=ax, color=kde_color, **kde_kws)\n"
     ]
    },
    {
     "name": "stdout",
     "output_type": "stream",
     "text": [
      "\n",
      "Lambda value used for Transformation: -0.04781688786777463\n"
     ]
    },
    {
     "data": {
      "image/png": "[encoded data removed]",
      "text/plain": [
       "<Figure size 1440x720 with 2 Axes>"
      ]
     },
     "metadata": {
      "needs_background": "light"
     },
     "output_type": "display_data"
    }
   ],
   "source": [
    "# Box_Cox ANALYSIS\n",
    "from patsy import dmatrix\n",
    "X = dmatrix('x1+x2+x3+x4+x5+x6+x7+x8+x9', data = df) \n",
    "# transform training data & save lambda value\n",
    "fitted_data, fitted_lambda = stats.boxcox(df.y)\n",
    "\n",
    "# creating axes to draw plots\n",
    "fig, ax = plt.subplots(1, 2)\n",
    " \n",
    "# plotting the original data(non-normal) and\n",
    "# fitted data (normal)\n",
    "sns.distplot(df.y, hist = False, kde = True,\n",
    "            kde_kws = {'shade': True, 'linewidth': 2},\n",
    "            label = \"Non-Normal\", color =\"red\", ax = ax[0])\n",
    " \n",
    "sns.distplot(fitted_data, hist = False, kde = True,\n",
    "            kde_kws = {'shade': True, 'linewidth': 2},\n",
    "            label = \"Normal\", color =\"green\", ax = ax[1])\n",
    " \n",
    "# adding legends to the subplots\n",
    "plt.legend(loc = \"upper right\")\n",
    " \n",
    "# rescaling the subplots\n",
    "fig.set_figheight(10)\n",
    "fig.set_figwidth(20)\n",
    " \n",
    "print('')\n",
    "print(f\"Lambda value used for Transformation: {fitted_lambda}\")\n"
   ]
  },
  {
   "cell_type": "code",
   "execution_count": 468,
   "id": "a1bae800-3423-49c0-9d74-b8f397eeb15d",
   "metadata": {},
   "outputs": [
    {
     "data": {
      "text/plain": [
       "<matplotlib.collections.LineCollection at 0x21ea0067130>"
      ]
     },
     "execution_count": 468,
     "metadata": {},
     "output_type": "execute_result"
    },
    {
     "data": {
      "image/png": "[encoded data removed]",
      "text/plain": [
       "<Figure size 432x288 with 1 Axes>"
      ]
     },
     "metadata": {
      "needs_background": "light"
     },
     "output_type": "display_data"
    }
   ],
   "source": [
    "#Box-Cox\n",
    "X = dmatrix('x1+x2+x3+x4+x5+x6+x7+x8+x9', data = df)\n",
    "\n",
    "n = df.shape[0]\n",
    "sumlogy = np.sum(np.log(df.y))\n",
    "lam = np.linspace(-0.0,1,100)\n",
    "llk = np.empty(100)\n",
    "for i in range(0,100):\n",
    "  lmod = sm.OLS(sp.stats.boxcox(df.y,lam[i]),X).fit()\n",
    "  llk[i] = -(n/2)*np.log(lmod.ssr/n) + (lam[i] - 1)*sumlogy\n",
    "fig, ax = plt.subplots()\n",
    "ax.plot(lam,llk)\n",
    "ax.set_xlabel('$\\lambda$')\n",
    "ax.set_ylabel('log likelihood')\n",
    "maxi = llk.argmax()\n",
    "ax.vlines(lam[maxi],ymin = min(llk),ymax = max(llk), linestyle = 'dashed')\n",
    "cicut = max(llk) - sp.stats.chi2.ppf(0.95,1)/2\n",
    "rlam = lam[llk > cicut]\n",
    "ax.hlines(cicut, xmin =rlam[0],xmax = rlam[-1], linestyle = 'dashed')\n",
    "ax.vlines([rlam[0],rlam[-1]], ymin=min(llk), ymax = cicut, linestyle = 'dashed')"
   ]
  },
  {
   "cell_type": "markdown",
   "id": "60cefd0e-4d62-4a40-a419-c9b0a4a996f0",
   "metadata": {},
   "source": [
    "<div class = 'alert alert-warning'>\n",
    "Box-cox does not guarantee normality because it never checks for the normality which is necessary to be foolproof that it has correctly transformed the non-normal distribution or not. It only checks for the smallest Standard deviation.\n",
    "<br>\n",
    "Therefore, it is necessary to always check the transformed data for normality using a probability or Q-Q plot. </div>"
   ]
  },
  {
   "cell_type": "code",
   "execution_count": 636,
   "id": "9ae0fa48-a86f-47fa-bea8-0a6af745be65",
   "metadata": {},
   "outputs": [
    {
     "data": {
      "image/png": "[encoded data removed]",
      "text/plain": [
       "<Figure size 432x288 with 1 Axes>"
      ]
     },
     "metadata": {
      "needs_background": "light"
     },
     "output_type": "display_data"
    },
    {
     "data": {
      "text/plain": [
       "<Figure size 576x432 with 0 Axes>"
      ]
     },
     "metadata": {},
     "output_type": "display_data"
    }
   ],
   "source": [
    "fig = sm.qqplot(fitted_data, fit = True, line= '45')\n",
    "f = plt.figure()\n",
    "f.set_figwidth(8)\n",
    "f.set_figheight(6)\n",
    "plt.show()"
   ]
  },
  {
   "cell_type": "markdown",
   "id": "794ace5d-6456-4177-a8c0-128a43571e35",
   "metadata": {},
   "source": [
    "Here we can see the Box-Cox transformation gives a better Q-Q plot than without the transformation."
   ]
  },
  {
   "cell_type": "markdown",
   "id": "93772198-9404-4dad-a4e1-bb28c9c81847",
   "metadata": {},
   "source": [
    "### (d)  State your conclusions from your analysis in part 1(c) and what, if any, action you would recommend on transforming any of these variables. If you find a needed transformation, state it, but do not use it in any further questions unless it is specifically requested."
   ]
  },
  {
   "cell_type": "markdown",
   "id": "17115196-8c1a-43fc-b10c-7ec2c9a701b0",
   "metadata": {},
   "source": [
    "<div class = 'alert alert-success'>\n",
    "CONCLUSIONS: \n",
    "<br>The model with the Box-Cox transformation applied to the data seems to be better than the untransformed MLR because it transforms the data to normal. This residuals follow the normality assumption better when transfromed through Box-Cox transformation.\n",
    "<br>\n",
    "Needed transformations: y (log) and x9 (sqrt)\n",
    "</div>\n"
   ]
  },
  {
   "cell_type": "markdown",
   "id": "1920ed74-5c57-46f3-813b-5b92a4754f31",
   "metadata": {},
   "source": [
    "---"
   ]
  },
  {
   "cell_type": "markdown",
   "id": "d980d7ab-c72b-4b0f-adc7-3b717f9ef3bd",
   "metadata": {},
   "source": [
    "## **Problem 2:**\n",
    "(a) Construct an ANOVA table for the regression of the untransformed y on the original 9 predictor\n",
    "variables. Use the results from the ANOVA table to make an initial assessment of the fit. Discuss\n",
    "why the fit is (or is not) adequate."
   ]
  },
  {
   "cell_type": "code",
   "execution_count": 17,
   "id": "96483e9c-9a85-4347-8eb8-58bd8bc40255",
   "metadata": {},
   "outputs": [
    {
     "name": "stdout",
     "output_type": "stream",
     "text": [
      "Full Model ANOVA\n",
      "             sum_sq    df          F    PR(>F)\n",
      "Intercept  0.308951   1.0  15.966923  0.000386\n",
      "x1         0.135985   1.0   7.027866  0.012691\n",
      "x2         0.038630   1.0   1.996456  0.167959\n",
      "x3         0.035920   1.0   1.856391  0.183184\n",
      "x4         0.005889   1.0   0.304345  0.585257\n",
      "x5         0.503982   1.0  26.046339  0.000017\n",
      "x6         0.001160   1.0   0.059936  0.808265\n",
      "x7         0.006861   1.0   0.354574  0.556001\n",
      "x8         0.175357   1.0   9.062643  0.005250\n",
      "x9         0.000004   1.0   0.000209  0.988558\n",
      "Residual   0.580483  30.0        NaN       NaN\n"
     ]
    }
   ],
   "source": [
    "# Print ANOVA table\n",
    "print('Full Model ANOVA')\n",
    "anova_full = sm.stats.anova_lm(model_full, typ=3)\n",
    "print(anova_full)"
   ]
  },
  {
   "cell_type": "markdown",
   "id": "15387e20-d3fc-41e2-b50d-f8f75b1a6ef0",
   "metadata": {},
   "source": [
    "<div class = 'alert alert-success'>\n",
    "    \n",
    "The Anova tests to compare the means of different levels. Here our predictors are seen as the different levels and we can test to see their which means are significant according to their p-values. <br>\n",
    "Based on the ANOVA table, at an $\\alpha=0.05$, $X_1$, $X_5$ and $X_8$ are statistically significant.\n",
    "<br> <br>\n",
    "The fit is not adequate because we have too many variables that are not significant according to the ANOVA model. <br>   \n",
    " \n",
    "    There might be some interaction effects that are not represented by the main effects, as well as multicollinearity that we need to check.\n",
    "\n",
    "</div>"
   ]
  },
  {
   "cell_type": "markdown",
   "id": "71ce9e01-7ac6-4887-ba8d-18f028bd11b1",
   "metadata": {},
   "source": [
    "(b) Construct a second ANOVA table for the fit of the original data set using only x1, x2, and x5.\n",
    "Do the ANOVA tables for this fit and the previous one in part 2(a) clearly indicate that one of\n",
    "the two sets of variables is preferable to the other? Why (or why not)?"
   ]
  },
  {
   "cell_type": "code",
   "execution_count": 638,
   "id": "a145f9f8-ef7c-4733-b855-b06faa66a1ad",
   "metadata": {},
   "outputs": [
    {
     "name": "stdout",
     "output_type": "stream",
     "text": [
      "             sum_sq    df           F        PR(>F)\n",
      "Intercept  0.348146   1.0   12.394885  1.188426e-03\n",
      "x1         0.092312   1.0    3.286528  7.819608e-02\n",
      "x2         0.633849   1.0   22.566625  3.212961e-05\n",
      "x5         2.894261   1.0  103.043076  4.156091e-12\n",
      "Residual   1.011163  36.0         NaN           NaN\n"
     ]
    }
   ],
   "source": [
    "model_x125 = ols('y~x1+x2+x5',data=df).fit()\n",
    "\n",
    "anova_x125 = sm.stats.anova_lm(model_x125,typ=3)\n",
    "print(anova_x125)\n"
   ]
  },
  {
   "cell_type": "markdown",
   "id": "cc389a94-51c6-4bc9-91f5-d9e138ceefd6",
   "metadata": {},
   "source": [
    "<div class = 'alert alert-success'>\n",
    "    No, the reduced ANOVA test indicates that the variables tested are significant. In this case, for an $\\alpha=0.05$, X2 and X5 are significant. Even though the variables resulted more significant than before, the ANOVA tells us nothing about the variables not in the model or their interactions as we would need to model these as well. ANOVA helps us find out whether the differences between groups of data are statistically significant. We can understand how each independent variable’s mean is different from the others, so we can begin to understand which of them has a connection to the dependent variable and allows us to learn what is driving that behavior.\n",
    "    We need to try different variations and more models to determine which is better based on lower information criterias, larger $r^2$ and lower MSE."
   ]
  },
  {
   "cell_type": "markdown",
   "id": "848b42ad-0e39-480c-b801-5cdc188e67c4",
   "metadata": {},
   "source": [
    "(c) Perform (separately) a statistical check on the assumptions of constant variance and normality\n",
    "for the original 9-variable model in part 2(a) and state your conclusions and the procedures you\n",
    "used."
   ]
  },
  {
   "cell_type": "markdown",
   "id": "5495fda2-cbe1-4544-a038-1704e44cd1b7",
   "metadata": {},
   "source": [
    "**From the histograms of each predictor, we can see that some transformation is needed to assume normality.**"
   ]
  },
  {
   "cell_type": "code",
   "execution_count": 23,
   "id": "63220894-c9c7-4bd5-ade7-f77a9aad5719",
   "metadata": {},
   "outputs": [
    {
     "data": {
      "image/png": "[encoded data removed]",
      "text/plain": [
       "<Figure size 1152x720 with 12 Axes>"
      ]
     },
     "metadata": {
      "needs_background": "light"
     },
     "output_type": "display_data"
    }
   ],
   "source": [
    "# Histograms to see the distribution of the data....some transformation is needed for some variables to resolve skewness.\n",
    "# Generically define how many plots along and across\n",
    "ncols = 3\n",
    "nrows = int(np.ceil(len(df.columns) / (1.0*ncols)))\n",
    "fig, axes = plt.subplots(nrows=nrows, ncols=ncols, figsize=(16, 10))\n",
    "\n",
    "# Lazy counter so we can remove unwated axes\n",
    "counter = 0\n",
    "for i in range(nrows):\n",
    "    for j in range(ncols):\n",
    "\n",
    "        ax = axes[i][j]\n",
    "\n",
    "        # Plot when we have data\n",
    "        if counter < len(df.columns):\n",
    "\n",
    "            ax.hist(df[df.columns[counter]], bins=10, color='blue', alpha=0.5, label='{}'.format(df.columns[counter]))\n",
    "            ax.set_xlabel('x')\n",
    "            ax.set_ylabel('PDF')\n",
    "            ax.set_ylim([0, 25])\n",
    "            leg = ax.legend(loc='upper right')\n",
    "            leg.draw_frame(False)\n",
    "\n",
    "        # Remove axis when we no longer have data\n",
    "        else:\n",
    "            ax.set_axis_off()\n",
    "\n",
    "        counter += 1\n",
    "\n",
    "plt.show()"
   ]
  },
  {
   "cell_type": "markdown",
   "id": "e3cfd5ae-d665-4a2a-9b85-20d9ff3a7d27",
   "metadata": {},
   "source": [
    "### The Q-Q plot helps determine if the residuals follow a normal distribution. Data should roughly follow a 45 degree angle.\n",
    "\n",
    "<div class = 'alert alert-success'>\n",
    "The Q-Q plot is not too bad since only towards the tail fo the plot we see that the data is not so normal. Maybe a transformation would be helpful, but overall the residuals follow normalithy assumption. </div?"
   ]
  },
  {
   "cell_type": "code",
   "execution_count": 24,
   "id": "46f81d0e-830f-4640-b2d4-08d383cbabee",
   "metadata": {},
   "outputs": [
    {
     "data": {
      "image/png": "[encoded data removed]",
      "text/plain": [
       "<Figure size 432x288 with 1 Axes>"
      ]
     },
     "metadata": {
      "needs_background": "light"
     },
     "output_type": "display_data"
    },
    {
     "data": {
      "text/plain": [
       "<Figure size 576x432 with 0 Axes>"
      ]
     },
     "metadata": {},
     "output_type": "display_data"
    }
   ],
   "source": [
    "# Q-Q plot: helps determine if the residuals follow a normal distribution. Data should roughly follow a 45 degree angle.\n",
    "residuals_full = model_full.resid\n",
    "fig = sm.qqplot(residuals_full, fit = True, line= '45')\n",
    "f = plt.figure()\n",
    "f.set_figwidth(8)\n",
    "f.set_figheight(6)\n",
    "plt.show()"
   ]
  },
  {
   "cell_type": "markdown",
   "id": "56532d3c-1aca-4c9b-a528-0a72a0edc0c4",
   "metadata": {},
   "source": [
    "### Fitted Values vs. Residuals Plot: determine if the residuals of a regression model have constant variance, checks for nonlinearity and potential outliers."
   ]
  },
  {
   "cell_type": "code",
   "execution_count": 25,
   "id": "2cb115fa-4663-4af8-9d51-f3b223fdc76d",
   "metadata": {},
   "outputs": [
    {
     "data": {
      "image/png": "[encoded data removed]",
      "text/plain": [
       "<Figure size 2160x432 with 4 Axes>"
      ]
     },
     "metadata": {
      "needs_background": "light"
     },
     "output_type": "display_data"
    }
   ],
   "source": [
    "f, ax = plt.subplots(figsize=(30,6))\n",
    "\n",
    "plt.subplot(1, 4, 1)\n",
    "plt.scatter(model_full.fittedvalues,residuals_full)\n",
    "plt.axhline(0)\n",
    "plt.xlabel('Fitted values')\n",
    "plt.ylabel('Residuals')\n",
    "\n",
    "# Standardized Residuals\n",
    "standard_residual = influence.resid/np.sqrt(model_full.mse_resid)\n",
    "plt.subplot(1, 4, 2) \n",
    "plt.scatter(model_full.fittedvalues,standard_residual)\n",
    "plt.xlabel('Fitted values')\n",
    "plt.ylabel('Standardized Residual')\n",
    "# plt.title(\"\")\n",
    "plt.axhline(0)\n",
    "\n",
    "# Studentized Residuals\n",
    "plt.subplot(1, 4, 3) \n",
    "plt.scatter(model_full.fittedvalues,influence.resid_studentized)\n",
    "plt.xlabel('Fitted values')\n",
    "plt.ylabel('Studentized Residual, t_i')\n",
    "# plt.title(\"\")\n",
    "plt.axhline(0)\n",
    "\n",
    "# R-Studentized Residuals external\n",
    "plt.subplot(1, 4, 4) \n",
    "plt.scatter(model_full.fittedvalues,influence.resid_studentized_external)\n",
    "plt.xlabel('Fitted values')\n",
    "plt.ylabel('R-Student Residual')\n",
    "#plt.title(\"\")\n",
    "plt.axhline(0)\n",
    "\n",
    "plt.show()"
   ]
  },
  {
   "cell_type": "markdown",
   "id": "c1096a8a-cd6f-4755-8992-53e96c6df800",
   "metadata": {},
   "source": [
    "<div class = 'alert alert-success'>\n",
    "    By plotting the fitted values vs. the multiple residuals we see that the data has a more less non-constant variance (inverted-cone shape) with some outliers, and is not linear as we can see some curvature in the residuals. \n",
    "    \n",
    "</div>"
   ]
  },
  {
   "cell_type": "markdown",
   "id": "1283075e-c911-4de7-9872-fed12a91ff86",
   "metadata": {},
   "source": [
    "### Partial Regressions Plots: determine if the correct relationship between y and $x_i$ has been identified and the marginal contribution of a variable, given all other variables are in the model\n"
   ]
  },
  {
   "cell_type": "markdown",
   "id": "52cb8edb-107d-45bc-90b3-6e6b95ddf242",
   "metadata": {},
   "source": [
    "- X2 - X5, X8: seem to need $(X_i)^2$ or $1/X_i$ transformation because the plot is curvilinear\n",
    "- X7 and X9: might need a log transformation"
   ]
  },
  {
   "cell_type": "code",
   "execution_count": 26,
   "id": "9639fb7f-63d0-4003-849f-9d7292c05ddb",
   "metadata": {},
   "outputs": [
    {
     "data": {
      "image/png": "[encoded data removed]",
      "text/plain": [
       "<Figure size 2520x1440 with 9 Axes>"
      ]
     },
     "metadata": {
      "needs_background": "light"
     },
     "output_type": "display_data"
    }
   ],
   "source": [
    "# Partial Regressions\n",
    "lmod_y_1 = smf.ols('y ~ x2+x3+x4+x5+x6+x7+x8+x9', data = df).fit()\n",
    "lmod_x_1 = smf.ols('x1 ~ x2+x3+x4+x5+x6+x7+x8+x9', data = df).fit()\n",
    "\n",
    "lmod_y_2 = smf.ols('y ~ x1+x3+x4+x5+x6+x7+x8+x9', data = df).fit()\n",
    "lmod_x_2 = smf.ols('x2 ~ x1+x3+x4+x5+x6+x7+x8+x9', data = df).fit()\n",
    "\n",
    "lmod_y_3 = smf.ols('y ~ x1+x2+x4+x5+x6+x7+x8+x9', data = df).fit()\n",
    "lmod_x_3 = smf.ols('x3 ~ x1+x2+x4+x5+x6+x7+x8+x9', data = df).fit()\n",
    "\n",
    "lmod_y_4 = smf.ols('y ~ x1+x2+x3+x5+x6+x7+x8+x9', data = df).fit()\n",
    "lmod_x_4 = smf.ols('x4 ~ x1+x2+x3+x5+x6+x7+x8+x9', data = df).fit()\n",
    "\n",
    "lmod_y_5 = smf.ols('y ~ x1+x2+x3+x4+x6+x7+x8+x9', data = df).fit()\n",
    "lmod_x_5 = smf.ols('x5 ~ x1+x2+x3+x4+x6+x7+x8+x9', data = df).fit()\n",
    "\n",
    "lmod_y_6 = smf.ols('y ~ x1+x2+x3+x4+x5+x7+x8+x9', data = df).fit()\n",
    "lmod_x_6 = smf.ols('x6 ~ x1+x2+x3+x4+x5+x7+x8+x9', data = df).fit()\n",
    "\n",
    "lmod_y_7 = smf.ols('y ~ x1+x2+x3+x4+x5+x6+x8+x9', data = df).fit()\n",
    "lmod_x_7 = smf.ols('x7 ~ x1+x2+x3+x4+x5+x6+x8+x9', data = df).fit()\n",
    "\n",
    "lmod_y_8 = smf.ols('y ~ x1+x2+x3+x4+x5+x6+x7+x9', data = df).fit()\n",
    "lmod_x_8 = smf.ols('x8 ~ x1+x2+x3+x4+x5+x6+x7+x9', data = df).fit()\n",
    "\n",
    "lmod_y_9 = smf.ols('y ~ x1+x2+x3+x4+x5+x6+x7+x8', data = df).fit()\n",
    "lmod_x_9 = smf.ols('x9 ~ x1+x2+x3+x4+x5+x6+x7+x8', data = df).fit()\n",
    "\n",
    "\n",
    "plt.subplots(figsize=(35,20))\n",
    "# Partial Residual Plots\n",
    "plt.subplot(2, 9, 1) \n",
    "plt.scatter(lmod_x_1.resid,lmod_y_1.resid)  \n",
    "plt.xlabel('x1')\n",
    "plt.ylabel('y')\n",
    "plt.axhline(0)\n",
    "\n",
    "plt.subplot(2, 9, 2) \n",
    "plt.scatter(lmod_x_2.resid,lmod_y_2.resid)\n",
    "plt.xlabel('x2')\n",
    "plt.axhline(0)\n",
    "\n",
    "plt.subplot(2, 9, 3) #\n",
    "plt.scatter(lmod_x_3.resid,lmod_y_3.resid)\n",
    "plt.xlabel('x3')\n",
    "plt.axhline(0)\n",
    "\n",
    "plt.subplot(2, 9, 4) \n",
    "plt.scatter(lmod_x_4.resid,lmod_y_4.resid)\n",
    "plt.xlabel('x4')\n",
    "plt.axhline(0)\n",
    "\n",
    "plt.subplot(2, 9, 5) \n",
    "plt.scatter(lmod_x_5.resid,lmod_y_5.resid)\n",
    "plt.xlabel('x5')\n",
    "plt.axhline(0)\n",
    "\n",
    "plt.subplot(2, 9, 6) \n",
    "plt.scatter(lmod_x_6.resid,lmod_y_6.resid)\n",
    "plt.xlabel('x6')\n",
    "plt.axhline(0)\n",
    "\n",
    "plt.subplot(2, 9, 7) #\n",
    "plt.scatter(lmod_x_7.resid,lmod_y_7.resid)\n",
    "plt.xlabel('x7')\n",
    "plt.axhline(0)\n",
    "\n",
    "plt.subplot(2, 9, 8) \n",
    "plt.scatter(lmod_x_8.resid,lmod_y_8.resid)\n",
    "plt.xlabel('x8')\n",
    "plt.axhline(0)\n",
    "\n",
    "plt.subplot(2, 9, 9) \n",
    "plt.scatter(lmod_x_9.resid,lmod_y_9.resid)\n",
    "plt.xlabel('x9')\n",
    "plt.axhline(0)\n",
    "\n",
    "plt.show()"
   ]
  },
  {
   "cell_type": "markdown",
   "id": "a7679a7d-e854-4a64-abc5-256276b7a74e",
   "metadata": {},
   "source": [
    "(d) Determine which regression coefficients in the original 9-variable model in part 2(a) are significant\n",
    "at the 0.05 significance level."
   ]
  },
  {
   "cell_type": "markdown",
   "id": "43350914-b06e-43cf-a6a6-16fead1e910a",
   "metadata": {},
   "source": [
    "<div class = 'alert alert-success'>Statistically significant predictors according to full model at $\\alpha = 0.05$:\n",
    "    <br> x1, x5, x8 </div>\n",
    "\n",
    " "
   ]
  },
  {
   "cell_type": "markdown",
   "id": "74b9cc8d-6f84-42c4-9e83-89f82af7c5a7",
   "metadata": {},
   "source": [
    "---"
   ]
  },
  {
   "cell_type": "markdown",
   "id": "5eef09aa-0713-43ba-bfbc-5f59d86ef717",
   "metadata": {},
   "source": [
    "## **Problem 3:**\n",
    "(a) Identify any outliers and any influential points in the data set using the appropriate statistics based\n",
    "on a fit to the untransformed y using the original 9-variable model. These include computing\n",
    "statistics such as leverage values, studentized residuals, studentized deleted residuals, Cook’s\n",
    "distance measure, DFBETAs, DFFITS, and COVRATIOs (using the cutpoints identified in class).\n",
    "State your conclusions and justify your answers using the results of the analysis."
   ]
  },
  {
   "cell_type": "code",
   "execution_count": 252,
   "id": "8bba3a48-a64f-4543-b3fe-a925cf6d212a",
   "metadata": {},
   "outputs": [
    {
     "data": {
      "text/html": [
       "<div>\n",
       "<style scoped>\n",
       "    .dataframe tbody tr th:only-of-type {\n",
       "        vertical-align: middle;\n",
       "    }\n",
       "\n",
       "    .dataframe tbody tr th {\n",
       "        vertical-align: top;\n",
       "    }\n",
       "\n",
       "    .dataframe thead th {\n",
       "        text-align: right;\n",
       "    }\n",
       "</style>\n",
       "<table border=\"1\" class=\"dataframe\">\n",
       "  <thead>\n",
       "    <tr style=\"text-align: right;\">\n",
       "      <th></th>\n",
       "      <th>Rstud</th>\n",
       "      <th>ID</th>\n",
       "    </tr>\n",
       "  </thead>\n",
       "  <tbody>\n",
       "    <tr>\n",
       "      <th>1</th>\n",
       "      <td>3.659485</td>\n",
       "      <td>1</td>\n",
       "    </tr>\n",
       "  </tbody>\n",
       "</table>\n",
       "</div>"
      ],
      "text/plain": [
       "      Rstud  ID\n",
       "1  3.659485   1"
      ]
     },
     "execution_count": 252,
     "metadata": {},
     "output_type": "execute_result"
    }
   ],
   "source": [
    "# Use R-Student statistics to test outlier\n",
    "stud = pd.DataFrame({'Rstud':influence.resid_studentized_external, 'ID':df.index})\n",
    "alpha = 0.05\n",
    "t_cutoff = abs(sp.stats.t.ppf(alpha/2,29))\n",
    "# Use Bonferroni cutoff to find outliers with R-Student statistics\n",
    "Bonferroni_cutoff = abs(sp.stats.t.ppf(0.05/(2*40),29))\n",
    "stud[abs(stud.Rstud) > Bonferroni_cutoff]"
   ]
  },
  {
   "cell_type": "code",
   "execution_count": 27,
   "id": "b904f218-7a89-4082-86fc-eb578fbade87",
   "metadata": {},
   "outputs": [
    {
     "data": {
      "text/plain": [
       "<matplotlib.lines.Line2D at 0x21e9027e610>"
      ]
     },
     "execution_count": 27,
     "metadata": {},
     "output_type": "execute_result"
    },
    {
     "data": {
      "image/png": "[encoded data removed]",
      "text/plain": [
       "<Figure size 432x288 with 1 Axes>"
      ]
     },
     "metadata": {
      "needs_background": "light"
     },
     "output_type": "display_data"
    }
   ],
   "source": [
    "plt.scatter(model_full.fittedvalues,influence.resid_studentized)\n",
    "plt.xlabel('Fitted values')\n",
    "plt.ylabel('Studentized Residual')\n",
    "plt.axhline(0)"
   ]
  },
  {
   "cell_type": "markdown",
   "id": "2c54209c-15f8-4aee-89aa-23229fae40d7",
   "metadata": {},
   "source": [
    "The residuals plot displays a pattern indicating that there are non linear associations in the data, hence the estimates for the model coefficients aren’t reliable.\n",
    "From the Studentized Residuals plot, we don't see any clear outlier since no value is greater than 3 ($t_i$ > 3), but we know there is at least one outlier expressed by Bonferroni's cutoff. <br> "
   ]
  },
  {
   "cell_type": "code",
   "execution_count": 28,
   "id": "6a4f83d8-eed6-4c6c-86fd-a280c274fc05",
   "metadata": {},
   "outputs": [
    {
     "data": {
      "image/png": "[encoded data removed]",
      "text/plain": [
       "<Figure size 864x576 with 1 Axes>"
      ]
     },
     "metadata": {
      "needs_background": "light"
     },
     "output_type": "display_data"
    }
   ],
   "source": [
    "# Scale Location Plot\n",
    "## Use a different model command\n",
    "X = model_full.model.wexog # get the design matrix\n",
    "lmod_1 = sm.OLS(df['y'], sm.add_constant(X)).fit()\n",
    "\n",
    "## Plot the leverage vs residuals graph\n",
    "fig, ax = plt.subplots(figsize=(12,8))\n",
    "fig = sm.graphics.influence_plot(lmod_1, alpha  = 0.05, ax = ax, criterion=\"cooks\")"
   ]
  },
  {
   "cell_type": "markdown",
   "id": "9c867984-a0bc-4f1e-9956-dd6a54836c38",
   "metadata": {},
   "source": [
    "<div class = 'alert alert-warning'>\n",
    "   From the plot above, observations with high leverage, or large residuals are labeled to show potential influence points. We can see that there are several outliers (potential influence points) which include: 1,7,14,15,30,34,36,39. <br> \n",
    "</div>"
   ]
  },
  {
   "cell_type": "markdown",
   "id": "e5e6353f-8d97-4850-bc92-2e518938287b",
   "metadata": {},
   "source": [
    "Cutoffs for measures of influence:\n",
    "- Cook's D: Large values of D_i indicate an influential point, usually if  $$D_i > 1$$\n",
    "- DFBETAS: $$|DFBETASj,i| > 2 / sqrt(n)$$\n",
    "- DFFITS: $$|DFFITSj,i| > 2 [p / sqrt(n)]$$\n",
    "- COVRATIO: $$|COVRATIO - 1| > 3 / p$$"
   ]
  },
  {
   "cell_type": "code",
   "execution_count": 29,
   "id": "475aa91d-bbe3-471a-a4da-d48837273133",
   "metadata": {},
   "outputs": [
    {
     "data": {
      "text/html": [
       "<div>\n",
       "<style scoped>\n",
       "    .dataframe tbody tr th:only-of-type {\n",
       "        vertical-align: middle;\n",
       "    }\n",
       "\n",
       "    .dataframe tbody tr th {\n",
       "        vertical-align: top;\n",
       "    }\n",
       "\n",
       "    .dataframe thead th {\n",
       "        text-align: right;\n",
       "    }\n",
       "</style>\n",
       "<table border=\"1\" class=\"dataframe\">\n",
       "  <thead>\n",
       "    <tr style=\"text-align: right;\">\n",
       "      <th></th>\n",
       "      <th>dfbeta-x1</th>\n",
       "      <th>dfbeta-x2</th>\n",
       "      <th>dfbeta-x3</th>\n",
       "      <th>dfbeta-x4</th>\n",
       "      <th>dfbeta-x5</th>\n",
       "      <th>dfbeta-x6</th>\n",
       "      <th>dfbeta-x7</th>\n",
       "      <th>dfbeta-x8</th>\n",
       "      <th>dfbeta-x9</th>\n",
       "      <th>dfbeta-y</th>\n",
       "    </tr>\n",
       "  </thead>\n",
       "  <tbody>\n",
       "    <tr>\n",
       "      <th>0</th>\n",
       "      <td>-0.085049</td>\n",
       "      <td>0.131622</td>\n",
       "      <td>-0.384440</td>\n",
       "      <td>0.392939</td>\n",
       "      <td>0.433401</td>\n",
       "      <td>-0.315323</td>\n",
       "      <td>0.171063</td>\n",
       "      <td>-0.538067</td>\n",
       "      <td>0.435202</td>\n",
       "      <td>0.267273</td>\n",
       "    </tr>\n",
       "    <tr>\n",
       "      <th>1</th>\n",
       "      <td>-1.821629</td>\n",
       "      <td>0.319661</td>\n",
       "      <td>-1.692991</td>\n",
       "      <td>1.810046</td>\n",
       "      <td>0.463091</td>\n",
       "      <td>-1.531229</td>\n",
       "      <td>0.849690</td>\n",
       "      <td>1.806811</td>\n",
       "      <td>-1.829258</td>\n",
       "      <td>0.332745</td>\n",
       "    </tr>\n",
       "    <tr>\n",
       "      <th>3</th>\n",
       "      <td>0.013476</td>\n",
       "      <td>0.073165</td>\n",
       "      <td>0.656683</td>\n",
       "      <td>-0.605279</td>\n",
       "      <td>-0.272527</td>\n",
       "      <td>-0.177494</td>\n",
       "      <td>0.089860</td>\n",
       "      <td>0.321274</td>\n",
       "      <td>0.086868</td>\n",
       "      <td>0.039813</td>\n",
       "    </tr>\n",
       "    <tr>\n",
       "      <th>6</th>\n",
       "      <td>-0.313141</td>\n",
       "      <td>0.179171</td>\n",
       "      <td>-0.433822</td>\n",
       "      <td>0.500047</td>\n",
       "      <td>-0.745960</td>\n",
       "      <td>-0.561087</td>\n",
       "      <td>1.067273</td>\n",
       "      <td>-0.119667</td>\n",
       "      <td>0.951351</td>\n",
       "      <td>-0.177584</td>\n",
       "    </tr>\n",
       "    <tr>\n",
       "      <th>7</th>\n",
       "      <td>0.062836</td>\n",
       "      <td>-0.021576</td>\n",
       "      <td>0.168144</td>\n",
       "      <td>-0.137866</td>\n",
       "      <td>-0.088193</td>\n",
       "      <td>-0.054183</td>\n",
       "      <td>0.036439</td>\n",
       "      <td>0.244934</td>\n",
       "      <td>-0.413111</td>\n",
       "      <td>-0.065293</td>\n",
       "    </tr>\n",
       "    <tr>\n",
       "      <th>8</th>\n",
       "      <td>0.175725</td>\n",
       "      <td>-0.159791</td>\n",
       "      <td>0.116826</td>\n",
       "      <td>-0.087698</td>\n",
       "      <td>0.096732</td>\n",
       "      <td>0.407941</td>\n",
       "      <td>-0.418056</td>\n",
       "      <td>0.044708</td>\n",
       "      <td>-0.340527</td>\n",
       "      <td>0.083628</td>\n",
       "    </tr>\n",
       "    <tr>\n",
       "      <th>9</th>\n",
       "      <td>0.478906</td>\n",
       "      <td>-0.146245</td>\n",
       "      <td>-0.186947</td>\n",
       "      <td>0.235705</td>\n",
       "      <td>0.143808</td>\n",
       "      <td>0.041320</td>\n",
       "      <td>-0.087695</td>\n",
       "      <td>-0.250361</td>\n",
       "      <td>0.167286</td>\n",
       "      <td>0.785376</td>\n",
       "    </tr>\n",
       "    <tr>\n",
       "      <th>14</th>\n",
       "      <td>-0.213933</td>\n",
       "      <td>-0.835951</td>\n",
       "      <td>0.223355</td>\n",
       "      <td>0.014926</td>\n",
       "      <td>-0.464254</td>\n",
       "      <td>1.860110</td>\n",
       "      <td>0.047679</td>\n",
       "      <td>-0.381277</td>\n",
       "      <td>-0.796960</td>\n",
       "      <td>0.177569</td>\n",
       "    </tr>\n",
       "    <tr>\n",
       "      <th>15</th>\n",
       "      <td>0.453530</td>\n",
       "      <td>-0.131030</td>\n",
       "      <td>-0.219226</td>\n",
       "      <td>0.277616</td>\n",
       "      <td>-0.208406</td>\n",
       "      <td>-0.082608</td>\n",
       "      <td>-0.150507</td>\n",
       "      <td>0.284075</td>\n",
       "      <td>-0.088931</td>\n",
       "      <td>-0.523008</td>\n",
       "    </tr>\n",
       "    <tr>\n",
       "      <th>20</th>\n",
       "      <td>-0.227606</td>\n",
       "      <td>-0.113218</td>\n",
       "      <td>-0.155628</td>\n",
       "      <td>0.256152</td>\n",
       "      <td>0.374244</td>\n",
       "      <td>0.222421</td>\n",
       "      <td>0.036406</td>\n",
       "      <td>-0.596818</td>\n",
       "      <td>0.193265</td>\n",
       "      <td>0.663220</td>\n",
       "    </tr>\n",
       "    <tr>\n",
       "      <th>22</th>\n",
       "      <td>-0.281006</td>\n",
       "      <td>0.036241</td>\n",
       "      <td>0.333955</td>\n",
       "      <td>-0.324140</td>\n",
       "      <td>-0.184803</td>\n",
       "      <td>0.103886</td>\n",
       "      <td>-0.031472</td>\n",
       "      <td>0.189707</td>\n",
       "      <td>-0.058206</td>\n",
       "      <td>-0.000311</td>\n",
       "    </tr>\n",
       "    <tr>\n",
       "      <th>30</th>\n",
       "      <td>-0.065573</td>\n",
       "      <td>7.914131</td>\n",
       "      <td>-0.622680</td>\n",
       "      <td>-1.260919</td>\n",
       "      <td>-0.249674</td>\n",
       "      <td>-0.887707</td>\n",
       "      <td>0.948326</td>\n",
       "      <td>0.615804</td>\n",
       "      <td>-0.586307</td>\n",
       "      <td>-0.566539</td>\n",
       "    </tr>\n",
       "    <tr>\n",
       "      <th>34</th>\n",
       "      <td>-0.072675</td>\n",
       "      <td>0.013110</td>\n",
       "      <td>0.636091</td>\n",
       "      <td>-0.546414</td>\n",
       "      <td>0.336602</td>\n",
       "      <td>-0.059575</td>\n",
       "      <td>0.184619</td>\n",
       "      <td>-0.237841</td>\n",
       "      <td>-0.048449</td>\n",
       "      <td>-0.247042</td>\n",
       "    </tr>\n",
       "    <tr>\n",
       "      <th>36</th>\n",
       "      <td>0.429557</td>\n",
       "      <td>0.036256</td>\n",
       "      <td>0.103970</td>\n",
       "      <td>-0.182374</td>\n",
       "      <td>-0.100178</td>\n",
       "      <td>-0.179795</td>\n",
       "      <td>-0.034273</td>\n",
       "      <td>0.217208</td>\n",
       "      <td>-0.022128</td>\n",
       "      <td>-0.582774</td>\n",
       "    </tr>\n",
       "    <tr>\n",
       "      <th>38</th>\n",
       "      <td>-0.160363</td>\n",
       "      <td>-0.380468</td>\n",
       "      <td>0.421670</td>\n",
       "      <td>-0.249841</td>\n",
       "      <td>-0.171128</td>\n",
       "      <td>0.568193</td>\n",
       "      <td>-1.290857</td>\n",
       "      <td>0.622819</td>\n",
       "      <td>-0.306264</td>\n",
       "      <td>-0.053843</td>\n",
       "    </tr>\n",
       "    <tr>\n",
       "      <th>39</th>\n",
       "      <td>-0.077125</td>\n",
       "      <td>0.154746</td>\n",
       "      <td>-1.116243</td>\n",
       "      <td>-3.097083</td>\n",
       "      <td>0.660508</td>\n",
       "      <td>-1.087302</td>\n",
       "      <td>0.838720</td>\n",
       "      <td>0.885363</td>\n",
       "      <td>-0.638806</td>\n",
       "      <td>-1.021664</td>\n",
       "    </tr>\n",
       "  </tbody>\n",
       "</table>\n",
       "</div>"
      ],
      "text/plain": [
       "    dfbeta-x1  dfbeta-x2  dfbeta-x3  dfbeta-x4  dfbeta-x5  dfbeta-x6  \\\n",
       "0   -0.085049   0.131622  -0.384440   0.392939   0.433401  -0.315323   \n",
       "1   -1.821629   0.319661  -1.692991   1.810046   0.463091  -1.531229   \n",
       "3    0.013476   0.073165   0.656683  -0.605279  -0.272527  -0.177494   \n",
       "6   -0.313141   0.179171  -0.433822   0.500047  -0.745960  -0.561087   \n",
       "7    0.062836  -0.021576   0.168144  -0.137866  -0.088193  -0.054183   \n",
       "8    0.175725  -0.159791   0.116826  -0.087698   0.096732   0.407941   \n",
       "9    0.478906  -0.146245  -0.186947   0.235705   0.143808   0.041320   \n",
       "14  -0.213933  -0.835951   0.223355   0.014926  -0.464254   1.860110   \n",
       "15   0.453530  -0.131030  -0.219226   0.277616  -0.208406  -0.082608   \n",
       "20  -0.227606  -0.113218  -0.155628   0.256152   0.374244   0.222421   \n",
       "22  -0.281006   0.036241   0.333955  -0.324140  -0.184803   0.103886   \n",
       "30  -0.065573   7.914131  -0.622680  -1.260919  -0.249674  -0.887707   \n",
       "34  -0.072675   0.013110   0.636091  -0.546414   0.336602  -0.059575   \n",
       "36   0.429557   0.036256   0.103970  -0.182374  -0.100178  -0.179795   \n",
       "38  -0.160363  -0.380468   0.421670  -0.249841  -0.171128   0.568193   \n",
       "39  -0.077125   0.154746  -1.116243  -3.097083   0.660508  -1.087302   \n",
       "\n",
       "    dfbeta-x7  dfbeta-x8  dfbeta-x9  dfbeta-y  \n",
       "0    0.171063  -0.538067   0.435202  0.267273  \n",
       "1    0.849690   1.806811  -1.829258  0.332745  \n",
       "3    0.089860   0.321274   0.086868  0.039813  \n",
       "6    1.067273  -0.119667   0.951351 -0.177584  \n",
       "7    0.036439   0.244934  -0.413111 -0.065293  \n",
       "8   -0.418056   0.044708  -0.340527  0.083628  \n",
       "9   -0.087695  -0.250361   0.167286  0.785376  \n",
       "14   0.047679  -0.381277  -0.796960  0.177569  \n",
       "15  -0.150507   0.284075  -0.088931 -0.523008  \n",
       "20   0.036406  -0.596818   0.193265  0.663220  \n",
       "22  -0.031472   0.189707  -0.058206 -0.000311  \n",
       "30   0.948326   0.615804  -0.586307 -0.566539  \n",
       "34   0.184619  -0.237841  -0.048449 -0.247042  \n",
       "36  -0.034273   0.217208  -0.022128 -0.582774  \n",
       "38  -1.290857   0.622819  -0.306264 -0.053843  \n",
       "39   0.838720   0.885363  -0.638806 -1.021664  "
      ]
     },
     "execution_count": 29,
     "metadata": {},
     "output_type": "execute_result"
    }
   ],
   "source": [
    "# DFBETAS\n",
    "dfbetas = pd.DataFrame(influence.dfbetas)\n",
    "dfbetas.columns = ['dfbeta-x1','dfbeta-x2', 'dfbeta-x3','dfbeta-x4', 'dfbeta-x5', 'dfbeta-x6','dfbeta-x7','dfbeta-x8','dfbeta-x9','dfbeta-y']\n",
    "cutoff = 2/np.sqrt(df.shape[0])\n",
    "dfbetas[dfbetas.apply(lambda x: (abs(x['dfbeta-x1']) > cutoff) |  \\\n",
    "    (abs(x['dfbeta-x2']) > cutoff) | (abs(x['dfbeta-x3']) > cutoff) | (abs(x['dfbeta-x4']) > cutoff) | (abs(x['dfbeta-x5']) > cutoff) | \\\n",
    "                      (abs(x['dfbeta-x6']) > cutoff) | (abs(x['dfbeta-x7']) > cutoff) | (abs(x['dfbeta-x8']) > cutoff) | (abs(x['dfbeta-x9']) > cutoff) | (abs(x['dfbeta-y']) > cutoff), axis = 1)]"
   ]
  },
  {
   "cell_type": "code",
   "execution_count": 254,
   "id": "d4f4931a-8cd8-4624-bf9c-b6ff956e7602",
   "metadata": {},
   "outputs": [
    {
     "data": {
      "text/html": [
       "<div>\n",
       "<style scoped>\n",
       "    .dataframe tbody tr th:only-of-type {\n",
       "        vertical-align: middle;\n",
       "    }\n",
       "\n",
       "    .dataframe tbody tr th {\n",
       "        vertical-align: top;\n",
       "    }\n",
       "\n",
       "    .dataframe thead th {\n",
       "        text-align: right;\n",
       "    }\n",
       "</style>\n",
       "<table border=\"1\" class=\"dataframe\">\n",
       "  <thead>\n",
       "    <tr style=\"text-align: right;\">\n",
       "      <th></th>\n",
       "      <th>dffits</th>\n",
       "    </tr>\n",
       "  </thead>\n",
       "  <tbody>\n",
       "    <tr>\n",
       "      <th>1</th>\n",
       "      <td>8.676337</td>\n",
       "    </tr>\n",
       "    <tr>\n",
       "      <th>6</th>\n",
       "      <td>-1.480806</td>\n",
       "    </tr>\n",
       "    <tr>\n",
       "      <th>14</th>\n",
       "      <td>2.511106</td>\n",
       "    </tr>\n",
       "    <tr>\n",
       "      <th>30</th>\n",
       "      <td>9.004682</td>\n",
       "    </tr>\n",
       "    <tr>\n",
       "      <th>34</th>\n",
       "      <td>1.039921</td>\n",
       "    </tr>\n",
       "    <tr>\n",
       "      <th>38</th>\n",
       "      <td>-1.480473</td>\n",
       "    </tr>\n",
       "    <tr>\n",
       "      <th>39</th>\n",
       "      <td>-10.525487</td>\n",
       "    </tr>\n",
       "  </tbody>\n",
       "</table>\n",
       "</div>"
      ],
      "text/plain": [
       "       dffits\n",
       "1    8.676337\n",
       "6   -1.480806\n",
       "14   2.511106\n",
       "30   9.004682\n",
       "34   1.039921\n",
       "38  -1.480473\n",
       "39 -10.525487"
      ]
     },
     "execution_count": 254,
     "metadata": {},
     "output_type": "execute_result"
    }
   ],
   "source": [
    "# DFFITS\n",
    "cutoff = 2*np.sqrt(9/df.shape[0])\n",
    "dffits = pd.DataFrame({'dffits':influence.dffits[0]})\n",
    "dffits[abs(dffits.values) > cutoff]"
   ]
  },
  {
   "cell_type": "code",
   "execution_count": 31,
   "id": "25ba3f42-6c17-432e-a8ea-e3bb8af59a5f",
   "metadata": {},
   "outputs": [
    {
     "data": {
      "text/html": [
       "<div>\n",
       "<style scoped>\n",
       "    .dataframe tbody tr th:only-of-type {\n",
       "        vertical-align: middle;\n",
       "    }\n",
       "\n",
       "    .dataframe tbody tr th {\n",
       "        vertical-align: top;\n",
       "    }\n",
       "\n",
       "    .dataframe thead th {\n",
       "        text-align: right;\n",
       "    }\n",
       "</style>\n",
       "<table border=\"1\" class=\"dataframe\">\n",
       "  <thead>\n",
       "    <tr style=\"text-align: right;\">\n",
       "      <th></th>\n",
       "      <th>covratio</th>\n",
       "    </tr>\n",
       "  </thead>\n",
       "  <tbody>\n",
       "    <tr>\n",
       "      <th>3</th>\n",
       "      <td>2.110316</td>\n",
       "    </tr>\n",
       "    <tr>\n",
       "      <th>7</th>\n",
       "      <td>3.182701</td>\n",
       "    </tr>\n",
       "    <tr>\n",
       "      <th>14</th>\n",
       "      <td>2.756175</td>\n",
       "    </tr>\n",
       "    <tr>\n",
       "      <th>30</th>\n",
       "      <td>7.331780</td>\n",
       "    </tr>\n",
       "    <tr>\n",
       "      <th>33</th>\n",
       "      <td>2.136587</td>\n",
       "    </tr>\n",
       "    <tr>\n",
       "      <th>34</th>\n",
       "      <td>2.524155</td>\n",
       "    </tr>\n",
       "  </tbody>\n",
       "</table>\n",
       "</div>"
      ],
      "text/plain": [
       "    covratio\n",
       "3   2.110316\n",
       "7   3.182701\n",
       "14  2.756175\n",
       "30  7.331780\n",
       "33  2.136587\n",
       "34  2.524155"
      ]
     },
     "execution_count": 31,
     "metadata": {},
     "output_type": "execute_result"
    }
   ],
   "source": [
    "#COVRATIO \n",
    "Covratio = pd.DataFrame({'covratio': influence.cov_ratio})\n",
    "Covratio[abs(Covratio.values - 1) > 3*(df.shape[1]+1)/df.shape[0]]"
   ]
  },
  {
   "cell_type": "code",
   "execution_count": 32,
   "id": "e8bf58b8-18a9-45a7-9fb3-b6112d6908d7",
   "metadata": {},
   "outputs": [
    {
     "data": {
      "text/html": [
       "<div>\n",
       "<style scoped>\n",
       "    .dataframe tbody tr th:only-of-type {\n",
       "        vertical-align: middle;\n",
       "    }\n",
       "\n",
       "    .dataframe tbody tr th {\n",
       "        vertical-align: top;\n",
       "    }\n",
       "\n",
       "    .dataframe thead th {\n",
       "        text-align: right;\n",
       "    }\n",
       "</style>\n",
       "<table border=\"1\" class=\"dataframe\">\n",
       "  <thead>\n",
       "    <tr style=\"text-align: right;\">\n",
       "      <th></th>\n",
       "      <th>covratio</th>\n",
       "    </tr>\n",
       "  </thead>\n",
       "  <tbody>\n",
       "    <tr>\n",
       "      <th>0</th>\n",
       "      <td>0.444636</td>\n",
       "    </tr>\n",
       "    <tr>\n",
       "      <th>1</th>\n",
       "      <td>0.208608</td>\n",
       "    </tr>\n",
       "    <tr>\n",
       "      <th>6</th>\n",
       "      <td>0.631517</td>\n",
       "    </tr>\n",
       "    <tr>\n",
       "      <th>9</th>\n",
       "      <td>0.475615</td>\n",
       "    </tr>\n",
       "    <tr>\n",
       "      <th>15</th>\n",
       "      <td>0.305526</td>\n",
       "    </tr>\n",
       "    <tr>\n",
       "      <th>20</th>\n",
       "      <td>0.905065</td>\n",
       "    </tr>\n",
       "    <tr>\n",
       "      <th>36</th>\n",
       "      <td>0.285547</td>\n",
       "    </tr>\n",
       "    <tr>\n",
       "      <th>39</th>\n",
       "      <td>0.540625</td>\n",
       "    </tr>\n",
       "  </tbody>\n",
       "</table>\n",
       "</div>"
      ],
      "text/plain": [
       "    covratio\n",
       "0   0.444636\n",
       "1   0.208608\n",
       "6   0.631517\n",
       "9   0.475615\n",
       "15  0.305526\n",
       "20  0.905065\n",
       "36  0.285547\n",
       "39  0.540625"
      ]
     },
     "execution_count": 32,
     "metadata": {},
     "output_type": "execute_result"
    }
   ],
   "source": [
    "Covratio[Covratio.values < 1]"
   ]
  },
  {
   "cell_type": "code",
   "execution_count": 33,
   "id": "e4009f61-daaf-4046-bfbf-82b04360090f",
   "metadata": {},
   "outputs": [
    {
     "data": {
      "text/html": [
       "<div>\n",
       "<style scoped>\n",
       "    .dataframe tbody tr th:only-of-type {\n",
       "        vertical-align: middle;\n",
       "    }\n",
       "\n",
       "    .dataframe tbody tr th {\n",
       "        vertical-align: top;\n",
       "    }\n",
       "\n",
       "    .dataframe thead th {\n",
       "        text-align: right;\n",
       "    }\n",
       "</style>\n",
       "<table border=\"1\" class=\"dataframe\">\n",
       "  <thead>\n",
       "    <tr style=\"text-align: right;\">\n",
       "      <th></th>\n",
       "      <th>Hat</th>\n",
       "      <th>CooksD</th>\n",
       "      <th>DFFITS</th>\n",
       "      <th>DFbeta-Int</th>\n",
       "      <th>DFbetaCase</th>\n",
       "      <th>DFbeta-Dist</th>\n",
       "      <th>CovRatio</th>\n",
       "    </tr>\n",
       "  </thead>\n",
       "  <tbody>\n",
       "    <tr>\n",
       "      <th>0</th>\n",
       "      <td>0.1501</td>\n",
       "      <td>0.0652</td>\n",
       "      <td>-0.8476</td>\n",
       "      <td>-0.0850</td>\n",
       "      <td>0.1316</td>\n",
       "      <td>0.2673</td>\n",
       "      <td>0.4446</td>\n",
       "    </tr>\n",
       "    <tr>\n",
       "      <th>1</th>\n",
       "      <td>0.8490</td>\n",
       "      <td>5.3274</td>\n",
       "      <td>8.6763</td>\n",
       "      <td>-1.8216</td>\n",
       "      <td>0.3197</td>\n",
       "      <td>0.3327</td>\n",
       "      <td>0.2086</td>\n",
       "    </tr>\n",
       "    <tr>\n",
       "      <th>2</th>\n",
       "      <td>0.1000</td>\n",
       "      <td>0.0000</td>\n",
       "      <td>-0.0083</td>\n",
       "      <td>-0.0046</td>\n",
       "      <td>0.0011</td>\n",
       "      <td>-0.0057</td>\n",
       "      <td>1.5592</td>\n",
       "    </tr>\n",
       "    <tr>\n",
       "      <th>3</th>\n",
       "      <td>0.4768</td>\n",
       "      <td>0.0648</td>\n",
       "      <td>0.8012</td>\n",
       "      <td>0.0135</td>\n",
       "      <td>0.0732</td>\n",
       "      <td>0.0398</td>\n",
       "      <td>2.1103</td>\n",
       "    </tr>\n",
       "    <tr>\n",
       "      <th>4</th>\n",
       "      <td>0.0653</td>\n",
       "      <td>0.0002</td>\n",
       "      <td>0.0459</td>\n",
       "      <td>0.0392</td>\n",
       "      <td>-0.0066</td>\n",
       "      <td>0.0257</td>\n",
       "      <td>1.4860</td>\n",
       "    </tr>\n",
       "    <tr>\n",
       "      <th>5</th>\n",
       "      <td>0.0752</td>\n",
       "      <td>0.0019</td>\n",
       "      <td>0.1371</td>\n",
       "      <td>0.1006</td>\n",
       "      <td>-0.0048</td>\n",
       "      <td>0.0603</td>\n",
       "      <td>1.4019</td>\n",
       "    </tr>\n",
       "    <tr>\n",
       "      <th>6</th>\n",
       "      <td>0.3624</td>\n",
       "      <td>0.2002</td>\n",
       "      <td>-1.4808</td>\n",
       "      <td>-0.3131</td>\n",
       "      <td>0.1792</td>\n",
       "      <td>-0.1776</td>\n",
       "      <td>0.6315</td>\n",
       "    </tr>\n",
       "    <tr>\n",
       "      <th>7</th>\n",
       "      <td>0.6017</td>\n",
       "      <td>0.0459</td>\n",
       "      <td>-0.6696</td>\n",
       "      <td>0.0628</td>\n",
       "      <td>-0.0216</td>\n",
       "      <td>-0.0653</td>\n",
       "      <td>3.1827</td>\n",
       "    </tr>\n",
       "    <tr>\n",
       "      <th>8</th>\n",
       "      <td>0.1648</td>\n",
       "      <td>0.0278</td>\n",
       "      <td>0.5309</td>\n",
       "      <td>0.1757</td>\n",
       "      <td>-0.1598</td>\n",
       "      <td>0.0836</td>\n",
       "      <td>1.0392</td>\n",
       "    </tr>\n",
       "    <tr>\n",
       "      <th>9</th>\n",
       "      <td>0.1751</td>\n",
       "      <td>0.0762</td>\n",
       "      <td>0.9147</td>\n",
       "      <td>0.4789</td>\n",
       "      <td>-0.1462</td>\n",
       "      <td>0.7854</td>\n",
       "      <td>0.4756</td>\n",
       "    </tr>\n",
       "    <tr>\n",
       "      <th>10</th>\n",
       "      <td>0.0461</td>\n",
       "      <td>0.0040</td>\n",
       "      <td>0.1999</td>\n",
       "      <td>0.1315</td>\n",
       "      <td>0.0106</td>\n",
       "      <td>-0.0548</td>\n",
       "      <td>1.1106</td>\n",
       "    </tr>\n",
       "    <tr>\n",
       "      <th>11</th>\n",
       "      <td>0.1061</td>\n",
       "      <td>0.0014</td>\n",
       "      <td>0.1150</td>\n",
       "      <td>0.0654</td>\n",
       "      <td>-0.0416</td>\n",
       "      <td>0.0542</td>\n",
       "      <td>1.5110</td>\n",
       "    </tr>\n",
       "    <tr>\n",
       "      <th>12</th>\n",
       "      <td>0.0721</td>\n",
       "      <td>0.0009</td>\n",
       "      <td>-0.0939</td>\n",
       "      <td>-0.0478</td>\n",
       "      <td>-0.0129</td>\n",
       "      <td>-0.0342</td>\n",
       "      <td>1.4547</td>\n",
       "    </tr>\n",
       "    <tr>\n",
       "      <th>13</th>\n",
       "      <td>0.1006</td>\n",
       "      <td>0.0025</td>\n",
       "      <td>0.1567</td>\n",
       "      <td>0.0767</td>\n",
       "      <td>0.0050</td>\n",
       "      <td>-0.1176</td>\n",
       "      <td>1.4473</td>\n",
       "    </tr>\n",
       "    <tr>\n",
       "      <th>14</th>\n",
       "      <td>0.7485</td>\n",
       "      <td>0.6079</td>\n",
       "      <td>2.5111</td>\n",
       "      <td>-0.2139</td>\n",
       "      <td>-0.8360</td>\n",
       "      <td>0.1776</td>\n",
       "      <td>2.7562</td>\n",
       "    </tr>\n",
       "    <tr>\n",
       "      <th>15</th>\n",
       "      <td>0.1342</td>\n",
       "      <td>0.0714</td>\n",
       "      <td>0.9034</td>\n",
       "      <td>0.4535</td>\n",
       "      <td>-0.1310</td>\n",
       "      <td>-0.5230</td>\n",
       "      <td>0.3055</td>\n",
       "    </tr>\n",
       "    <tr>\n",
       "      <th>16</th>\n",
       "      <td>0.1252</td>\n",
       "      <td>0.0126</td>\n",
       "      <td>-0.3542</td>\n",
       "      <td>-0.1634</td>\n",
       "      <td>0.0012</td>\n",
       "      <td>-0.0487</td>\n",
       "      <td>1.1913</td>\n",
       "    </tr>\n",
       "    <tr>\n",
       "      <th>17</th>\n",
       "      <td>0.0583</td>\n",
       "      <td>0.0012</td>\n",
       "      <td>-0.1060</td>\n",
       "      <td>-0.0782</td>\n",
       "      <td>-0.0098</td>\n",
       "      <td>0.0105</td>\n",
       "      <td>1.4001</td>\n",
       "    </tr>\n",
       "    <tr>\n",
       "      <th>18</th>\n",
       "      <td>0.0823</td>\n",
       "      <td>0.0002</td>\n",
       "      <td>0.0404</td>\n",
       "      <td>0.0249</td>\n",
       "      <td>0.0069</td>\n",
       "      <td>-0.0126</td>\n",
       "      <td>1.5199</td>\n",
       "    </tr>\n",
       "    <tr>\n",
       "      <th>19</th>\n",
       "      <td>0.1438</td>\n",
       "      <td>0.0000</td>\n",
       "      <td>-0.0154</td>\n",
       "      <td>-0.0078</td>\n",
       "      <td>-0.0001</td>\n",
       "      <td>0.0115</td>\n",
       "      <td>1.6385</td>\n",
       "    </tr>\n",
       "    <tr>\n",
       "      <th>20</th>\n",
       "      <td>0.2429</td>\n",
       "      <td>0.0666</td>\n",
       "      <td>-0.8315</td>\n",
       "      <td>-0.2276</td>\n",
       "      <td>-0.1132</td>\n",
       "      <td>0.6632</td>\n",
       "      <td>0.9051</td>\n",
       "    </tr>\n",
       "    <tr>\n",
       "      <th>21</th>\n",
       "      <td>0.0893</td>\n",
       "      <td>0.0006</td>\n",
       "      <td>-0.0781</td>\n",
       "      <td>-0.0469</td>\n",
       "      <td>-0.0078</td>\n",
       "      <td>-0.0419</td>\n",
       "      <td>1.5084</td>\n",
       "    </tr>\n",
       "    <tr>\n",
       "      <th>22</th>\n",
       "      <td>0.1578</td>\n",
       "      <td>0.0198</td>\n",
       "      <td>-0.4450</td>\n",
       "      <td>-0.2810</td>\n",
       "      <td>0.0362</td>\n",
       "      <td>-0.0003</td>\n",
       "      <td>1.1652</td>\n",
       "    </tr>\n",
       "    <tr>\n",
       "      <th>23</th>\n",
       "      <td>0.1840</td>\n",
       "      <td>0.0060</td>\n",
       "      <td>-0.2427</td>\n",
       "      <td>-0.0947</td>\n",
       "      <td>-0.0186</td>\n",
       "      <td>-0.1784</td>\n",
       "      <td>1.5724</td>\n",
       "    </tr>\n",
       "    <tr>\n",
       "      <th>24</th>\n",
       "      <td>0.1277</td>\n",
       "      <td>0.0031</td>\n",
       "      <td>-0.1730</td>\n",
       "      <td>-0.0903</td>\n",
       "      <td>-0.0191</td>\n",
       "      <td>-0.0332</td>\n",
       "      <td>1.4998</td>\n",
       "    </tr>\n",
       "    <tr>\n",
       "      <th>25</th>\n",
       "      <td>0.1739</td>\n",
       "      <td>0.0007</td>\n",
       "      <td>0.0803</td>\n",
       "      <td>0.0334</td>\n",
       "      <td>-0.0297</td>\n",
       "      <td>0.0032</td>\n",
       "      <td>1.6813</td>\n",
       "    </tr>\n",
       "    <tr>\n",
       "      <th>26</th>\n",
       "      <td>0.0640</td>\n",
       "      <td>0.0005</td>\n",
       "      <td>-0.0704</td>\n",
       "      <td>-0.0512</td>\n",
       "      <td>-0.0085</td>\n",
       "      <td>0.0360</td>\n",
       "      <td>1.4626</td>\n",
       "    </tr>\n",
       "    <tr>\n",
       "      <th>27</th>\n",
       "      <td>0.2719</td>\n",
       "      <td>0.0217</td>\n",
       "      <td>-0.4628</td>\n",
       "      <td>0.1265</td>\n",
       "      <td>0.0530</td>\n",
       "      <td>0.0284</td>\n",
       "      <td>1.5849</td>\n",
       "    </tr>\n",
       "    <tr>\n",
       "      <th>28</th>\n",
       "      <td>0.0605</td>\n",
       "      <td>0.0009</td>\n",
       "      <td>0.0915</td>\n",
       "      <td>0.0435</td>\n",
       "      <td>0.0020</td>\n",
       "      <td>0.0313</td>\n",
       "      <td>1.4285</td>\n",
       "    </tr>\n",
       "    <tr>\n",
       "      <th>29</th>\n",
       "      <td>0.1371</td>\n",
       "      <td>0.0004</td>\n",
       "      <td>-0.0632</td>\n",
       "      <td>-0.0416</td>\n",
       "      <td>0.0061</td>\n",
       "      <td>-0.0137</td>\n",
       "      <td>1.6126</td>\n",
       "    </tr>\n",
       "    <tr>\n",
       "      <th>30</th>\n",
       "      <td>0.9506</td>\n",
       "      <td>7.3247</td>\n",
       "      <td>9.0047</td>\n",
       "      <td>-0.0656</td>\n",
       "      <td>7.9141</td>\n",
       "      <td>-0.5665</td>\n",
       "      <td>7.3318</td>\n",
       "    </tr>\n",
       "    <tr>\n",
       "      <th>31</th>\n",
       "      <td>0.1092</td>\n",
       "      <td>0.0014</td>\n",
       "      <td>0.1156</td>\n",
       "      <td>0.0628</td>\n",
       "      <td>-0.0130</td>\n",
       "      <td>-0.0775</td>\n",
       "      <td>1.5175</td>\n",
       "    </tr>\n",
       "    <tr>\n",
       "      <th>32</th>\n",
       "      <td>0.1848</td>\n",
       "      <td>0.0185</td>\n",
       "      <td>-0.4289</td>\n",
       "      <td>-0.1347</td>\n",
       "      <td>0.1453</td>\n",
       "      <td>0.1042</td>\n",
       "      <td>1.3066</td>\n",
       "    </tr>\n",
       "    <tr>\n",
       "      <th>33</th>\n",
       "      <td>0.3563</td>\n",
       "      <td>0.0034</td>\n",
       "      <td>-0.1804</td>\n",
       "      <td>0.0088</td>\n",
       "      <td>-0.0063</td>\n",
       "      <td>0.0148</td>\n",
       "      <td>2.1366</td>\n",
       "    </tr>\n",
       "    <tr>\n",
       "      <th>34</th>\n",
       "      <td>0.5759</td>\n",
       "      <td>0.1089</td>\n",
       "      <td>1.0399</td>\n",
       "      <td>-0.0727</td>\n",
       "      <td>0.0131</td>\n",
       "      <td>-0.2470</td>\n",
       "      <td>2.5242</td>\n",
       "    </tr>\n",
       "    <tr>\n",
       "      <th>35</th>\n",
       "      <td>0.1216</td>\n",
       "      <td>0.0013</td>\n",
       "      <td>-0.1124</td>\n",
       "      <td>-0.0628</td>\n",
       "      <td>0.0545</td>\n",
       "      <td>-0.0620</td>\n",
       "      <td>1.5485</td>\n",
       "    </tr>\n",
       "    <tr>\n",
       "      <th>36</th>\n",
       "      <td>0.0975</td>\n",
       "      <td>0.0505</td>\n",
       "      <td>0.7606</td>\n",
       "      <td>0.4296</td>\n",
       "      <td>0.0363</td>\n",
       "      <td>-0.5828</td>\n",
       "      <td>0.2855</td>\n",
       "    </tr>\n",
       "    <tr>\n",
       "      <th>37</th>\n",
       "      <td>0.0547</td>\n",
       "      <td>0.0033</td>\n",
       "      <td>-0.1797</td>\n",
       "      <td>-0.1299</td>\n",
       "      <td>0.0184</td>\n",
       "      <td>0.0617</td>\n",
       "      <td>1.2271</td>\n",
       "    </tr>\n",
       "    <tr>\n",
       "      <th>38</th>\n",
       "      <td>0.4963</td>\n",
       "      <td>0.2106</td>\n",
       "      <td>-1.4805</td>\n",
       "      <td>-0.1604</td>\n",
       "      <td>-0.3805</td>\n",
       "      <td>-0.0538</td>\n",
       "      <td>1.3310</td>\n",
       "    </tr>\n",
       "    <tr>\n",
       "      <th>39</th>\n",
       "      <td>0.9065</td>\n",
       "      <td>8.2201</td>\n",
       "      <td>-10.5255</td>\n",
       "      <td>-0.0771</td>\n",
       "      <td>0.1547</td>\n",
       "      <td>-1.0217</td>\n",
       "      <td>0.5406</td>\n",
       "    </tr>\n",
       "  </tbody>\n",
       "</table>\n",
       "</div>"
      ],
      "text/plain": [
       "       Hat  CooksD   DFFITS  DFbeta-Int  DFbetaCase  DFbeta-Dist  CovRatio\n",
       "0   0.1501  0.0652  -0.8476     -0.0850      0.1316       0.2673    0.4446\n",
       "1   0.8490  5.3274   8.6763     -1.8216      0.3197       0.3327    0.2086\n",
       "2   0.1000  0.0000  -0.0083     -0.0046      0.0011      -0.0057    1.5592\n",
       "3   0.4768  0.0648   0.8012      0.0135      0.0732       0.0398    2.1103\n",
       "4   0.0653  0.0002   0.0459      0.0392     -0.0066       0.0257    1.4860\n",
       "5   0.0752  0.0019   0.1371      0.1006     -0.0048       0.0603    1.4019\n",
       "6   0.3624  0.2002  -1.4808     -0.3131      0.1792      -0.1776    0.6315\n",
       "7   0.6017  0.0459  -0.6696      0.0628     -0.0216      -0.0653    3.1827\n",
       "8   0.1648  0.0278   0.5309      0.1757     -0.1598       0.0836    1.0392\n",
       "9   0.1751  0.0762   0.9147      0.4789     -0.1462       0.7854    0.4756\n",
       "10  0.0461  0.0040   0.1999      0.1315      0.0106      -0.0548    1.1106\n",
       "11  0.1061  0.0014   0.1150      0.0654     -0.0416       0.0542    1.5110\n",
       "12  0.0721  0.0009  -0.0939     -0.0478     -0.0129      -0.0342    1.4547\n",
       "13  0.1006  0.0025   0.1567      0.0767      0.0050      -0.1176    1.4473\n",
       "14  0.7485  0.6079   2.5111     -0.2139     -0.8360       0.1776    2.7562\n",
       "15  0.1342  0.0714   0.9034      0.4535     -0.1310      -0.5230    0.3055\n",
       "16  0.1252  0.0126  -0.3542     -0.1634      0.0012      -0.0487    1.1913\n",
       "17  0.0583  0.0012  -0.1060     -0.0782     -0.0098       0.0105    1.4001\n",
       "18  0.0823  0.0002   0.0404      0.0249      0.0069      -0.0126    1.5199\n",
       "19  0.1438  0.0000  -0.0154     -0.0078     -0.0001       0.0115    1.6385\n",
       "20  0.2429  0.0666  -0.8315     -0.2276     -0.1132       0.6632    0.9051\n",
       "21  0.0893  0.0006  -0.0781     -0.0469     -0.0078      -0.0419    1.5084\n",
       "22  0.1578  0.0198  -0.4450     -0.2810      0.0362      -0.0003    1.1652\n",
       "23  0.1840  0.0060  -0.2427     -0.0947     -0.0186      -0.1784    1.5724\n",
       "24  0.1277  0.0031  -0.1730     -0.0903     -0.0191      -0.0332    1.4998\n",
       "25  0.1739  0.0007   0.0803      0.0334     -0.0297       0.0032    1.6813\n",
       "26  0.0640  0.0005  -0.0704     -0.0512     -0.0085       0.0360    1.4626\n",
       "27  0.2719  0.0217  -0.4628      0.1265      0.0530       0.0284    1.5849\n",
       "28  0.0605  0.0009   0.0915      0.0435      0.0020       0.0313    1.4285\n",
       "29  0.1371  0.0004  -0.0632     -0.0416      0.0061      -0.0137    1.6126\n",
       "30  0.9506  7.3247   9.0047     -0.0656      7.9141      -0.5665    7.3318\n",
       "31  0.1092  0.0014   0.1156      0.0628     -0.0130      -0.0775    1.5175\n",
       "32  0.1848  0.0185  -0.4289     -0.1347      0.1453       0.1042    1.3066\n",
       "33  0.3563  0.0034  -0.1804      0.0088     -0.0063       0.0148    2.1366\n",
       "34  0.5759  0.1089   1.0399     -0.0727      0.0131      -0.2470    2.5242\n",
       "35  0.1216  0.0013  -0.1124     -0.0628      0.0545      -0.0620    1.5485\n",
       "36  0.0975  0.0505   0.7606      0.4296      0.0363      -0.5828    0.2855\n",
       "37  0.0547  0.0033  -0.1797     -0.1299      0.0184       0.0617    1.2271\n",
       "38  0.4963  0.2106  -1.4805     -0.1604     -0.3805      -0.0538    1.3310\n",
       "39  0.9065  8.2201 -10.5255     -0.0771      0.1547      -1.0217    0.5406"
      ]
     },
     "execution_count": 33,
     "metadata": {},
     "output_type": "execute_result"
    }
   ],
   "source": [
    "# Here we can see all the measures of influence learned in class.\n",
    "Influential = pd.DataFrame({'Hat': influence.hat_matrix_diag, 'CooksD': influence.cooks_distance[0], \\\n",
    "                            'DFFITS': influence.dffits[0], 'DFbeta-Int': influence.dfbetas[:,0],    \\\n",
    "                            'DFbetaCase': influence.dfbetas[:,1], 'DFbeta-Dist': influence.dfbetas[:,-1], \\\n",
    "                            'CovRatio': influence.cov_ratio})\n",
    "round(Influential,4)"
   ]
  },
  {
   "cell_type": "markdown",
   "id": "0efd0057-ca63-4adc-96e1-9aaa02edb248",
   "metadata": {},
   "source": [
    "<div class = 'alert alert-success'>\n",
    "    Based on the measures of influence, I conclude that observation 1 is an outlier, and 30 and 39 are influential points.\n",
    "</div>"
   ]
  },
  {
   "cell_type": "markdown",
   "id": "df085f5f-4eef-4116-9089-795b42f9e3f4",
   "metadata": {},
   "source": [
    "(b) Do you think your conclusions in part 3(a) are connected to the results found in Problem 1?\n",
    "Explain."
   ]
  },
  {
   "cell_type": "markdown",
   "id": "85c788e5-f0e1-48fb-a960-b95ada0f465f",
   "metadata": {},
   "source": [
    "<div class = 'alert alert-success'>\n",
    "    Yes, the outliers and influential points cause our model to yield inaccurate results.\n",
    "    \n",
    "    \n",
    "    \n",
    "From the studentized residuals vs. fitted plot, we assumed that there was no clear outlier, but clearly there is at least one outlier, by Bonferroni's cutoff, and several influential points were evident after performing the measures of influence tests.\n",
    "<br>From problem 1 we saw that the predictors all seemed to show outliers in the R-student residuals plot vs. regressors plot. I recommended transforming some of the variables so that the residuals could meet the normality assumption. We also saw that the variance was not constant for all of the predictors and that some of the predictors are not linear which could be due to outliers as well.\n",
    "</div>"
   ]
  },
  {
   "cell_type": "markdown",
   "id": "436cd480-1286-474f-b4f3-40039ea74e98",
   "metadata": {},
   "source": [
    "---"
   ]
  },
  {
   "cell_type": "markdown",
   "id": "e793b482-4ff0-403e-8f51-11a3daad7769",
   "metadata": {},
   "source": [
    "## **Problem 4:**\n",
    "Perform a multicollinearity diagnosis using the original 9-variable regression model with the untransformed y. Identify any severe multicollinearities using the variance inflation factors as well as the\n",
    "appropriate measures based on the eigenvalues and eigenvectors of X′X (using the cutpoints identified\n",
    "in the notes). Be sure to indicate the nature and strength of the identified multicollinearities."
   ]
  },
  {
   "cell_type": "markdown",
   "id": "d4bd912d-9fbc-4d73-9aa1-fb129722ccaa",
   "metadata": {},
   "source": [
    "#### VIF before centering and scaling."
   ]
  },
  {
   "cell_type": "code",
   "execution_count": 34,
   "id": "8fe95ec5-9251-455b-97e5-affc20848244",
   "metadata": {},
   "outputs": [
    {
     "data": {
      "text/plain": [
       "Intercept     1.855143\n",
       "x1            1.783863\n",
       "x2            6.952037\n",
       "x3            8.801241\n",
       "x4           31.271479\n",
       "x5           15.945293\n",
       "x6           11.407874\n",
       "x7           39.592409\n",
       "x8            9.751667\n",
       "x9            1.214792\n",
       "dtype: float64"
      ]
     },
     "execution_count": 34,
     "metadata": {},
     "output_type": "execute_result"
    }
   ],
   "source": [
    "# Calculate VIF\n",
    "from patsy import dmatrix\n",
    "X = dmatrix('x1 + x2 + x3 + x4 + x5 + x6 + x7 + x8 + x9' , df, return_type = 'dataframe')\n",
    "\n",
    "from statsmodels.stats.outliers_influence import variance_inflation_factor\n",
    "VIF = [variance_inflation_factor(X.values,i) for i in range(X.shape[1])]\n",
    "pd.Series(VIF,X.columns)\n",
    "\n",
    "#If the VIF SCORE is greater than 5 than there is multicolinearity."
   ]
  },
  {
   "cell_type": "markdown",
   "id": "b904931b-dc97-4a64-87ac-aa6f901e97fa",
   "metadata": {},
   "source": [
    "<div class = 'alert alert-success'>\n",
    "Variables showing severe multicollinearity based on VIF > 5: x2, x3, x4, x5, x6, x7, x8\n",
    "</div>"
   ]
  },
  {
   "cell_type": "markdown",
   "id": "83f0a278-b4a3-4829-84ed-86e9067e1e91",
   "metadata": {},
   "source": [
    "#### Eigenvalues & Eigenvectors of X'X"
   ]
  },
  {
   "cell_type": "markdown",
   "id": "089f9e43-6256-4358-a359-147b679bde43",
   "metadata": {},
   "source": [
    "If we scale and center the regressors in the X′X matrix, we have the correlation matrix.\n",
    "<br>\n",
    "**If $|rij|$ is close to unity, then there may be an indication of multicollinearity.**"
   ]
  },
  {
   "cell_type": "code",
   "execution_count": 639,
   "id": "a3ee9b90-5022-41b3-bb07-8c759b7a3843",
   "metadata": {},
   "outputs": [],
   "source": [
    "# Scale and center the data and make (X'X) as correlation matrix\n",
    "\n",
    "df_scale = (df - df.mean())/df.std()"
   ]
  },
  {
   "cell_type": "code",
   "execution_count": 640,
   "id": "31fbc761-e49b-4ba1-afb8-67cba28ef2c9",
   "metadata": {},
   "outputs": [
    {
     "name": "stdout",
     "output_type": "stream",
     "text": [
      "                            OLS Regression Results                            \n",
      "==============================================================================\n",
      "Dep. Variable:                      y   R-squared:                       0.886\n",
      "Model:                            OLS   Adj. R-squared:                  0.852\n",
      "Method:                 Least Squares   F-statistic:                     25.93\n",
      "Date:                Tue, 18 Oct 2022   Prob (F-statistic):           8.68e-12\n",
      "Time:                        20:30:38   Log-Likelihood:                -12.807\n",
      "No. Observations:                  40   AIC:                             45.61\n",
      "Df Residuals:                      30   BIC:                             62.50\n",
      "Df Model:                           9                                         \n",
      "Covariance Type:            nonrobust                                         \n",
      "==============================================================================\n",
      "                 coef    std err          t      P>|t|      [0.025      0.975]\n",
      "------------------------------------------------------------------------------\n",
      "Intercept  -5.551e-17      0.061  -9.12e-16      1.000      -0.124       0.124\n",
      "x1            -0.2182      0.082     -2.651      0.013      -0.386      -0.050\n",
      "x2             0.2296      0.162      1.413      0.168      -0.102       0.561\n",
      "x3             0.2491      0.183      1.362      0.183      -0.124       0.622\n",
      "x4            -0.1901      0.345     -0.552      0.585      -0.894       0.514\n",
      "x5             1.2559      0.246      5.104      0.000       0.753       1.758\n",
      "x6            -0.0510      0.208     -0.245      0.808      -0.476       0.374\n",
      "x7             0.2309      0.388      0.595      0.556      -0.561       1.023\n",
      "x8            -0.5793      0.192     -3.010      0.005      -0.972      -0.186\n",
      "x9            -0.0010      0.068     -0.014      0.989      -0.140       0.138\n",
      "==============================================================================\n",
      "Omnibus:                        1.717   Durbin-Watson:                   1.770\n",
      "Prob(Omnibus):                  0.424   Jarque-Bera (JB):                1.158\n",
      "Skew:                           0.416   Prob(JB):                        0.561\n",
      "Kurtosis:                       3.060   Cond. No.                         18.0\n",
      "==============================================================================\n",
      "\n",
      "Notes:\n",
      "[1] Standard Errors assume that the covariance matrix of the errors is correctly specified.\n",
      "            df        sum_sq       mean_sq          F        PR(>F)\n",
      "x1         1.0  1.342779e+00  1.342779e+00   9.066499  5.241936e-03\n",
      "x2         1.0  7.764563e+00  7.764563e+00  52.426660  4.638269e-08\n",
      "x3         1.0  8.677831e+00  8.677831e+00  58.593082  1.544019e-08\n",
      "x4         1.0  9.392832e+00  9.392832e+00  63.420799  6.883665e-09\n",
      "x5         1.0  5.722756e+00  5.722756e+00  38.640292  7.632463e-07\n",
      "x6         1.0  2.996792e-01  2.996792e-01   2.023446  1.652026e-01\n",
      "x7         1.0  1.650282e-07  1.650282e-07   0.000001  9.991647e-01\n",
      "x8         1.0  1.356428e+00  1.356428e+00   9.158661  5.043998e-03\n",
      "x9         1.0  3.096884e-05  3.096884e-05   0.000209  9.885584e-01\n",
      "Residual  30.0  4.443100e+00  1.481033e-01        NaN           NaN\n"
     ]
    }
   ],
   "source": [
    "lm_scaled = smf.ols('y~x1+x2+x3+x4+x5+x6+x7+x8+x9', df_scale).fit()\n",
    "print(lm_scaled.summary())\n",
    "print(sm.stats.anova_lm(lm_scaled))"
   ]
  },
  {
   "cell_type": "markdown",
   "id": "544ef3c9-7622-423c-a0a0-094e9ea716f8",
   "metadata": {},
   "source": [
    "<br>\n",
    "As we can see from the regression of the scaled and centered data, there is not much difference when compared to the regression model of the data that was not scaled.<br>\n",
    "\n",
    "**The centering and scaling of the data does however reduce the multicollinearity and the individual estimator’s standard deviation.**\n",
    "<br>"
   ]
  },
  {
   "cell_type": "markdown",
   "id": "0186fba1-c276-4e59-ac26-0703e0c06b55",
   "metadata": {},
   "source": [
    "#### VIF of scaled and centered data"
   ]
  },
  {
   "cell_type": "code",
   "execution_count": 37,
   "id": "afa32734-17a4-4d5e-9c26-738e543b9bf2",
   "metadata": {},
   "outputs": [
    {
     "data": {
      "text/plain": [
       "Intercept     1.000000\n",
       "x1            1.783863\n",
       "x2            6.952037\n",
       "x3            8.801241\n",
       "x4           31.271479\n",
       "x5           15.945293\n",
       "x6           11.407874\n",
       "x7           39.592409\n",
       "x8            9.751667\n",
       "x9            1.214792\n",
       "dtype: float64"
      ]
     },
     "execution_count": 37,
     "metadata": {},
     "output_type": "execute_result"
    }
   ],
   "source": [
    "# Calculate VIF\n",
    "\n",
    "X_c = dmatrix('x1 + x2 + x3 + x4 + x5 + x6 + x7 + x8 + x9', df_scale, return_type='dataframe')\n",
    "\n",
    "VIF_c = [variance_inflation_factor(X_c.values,i) for i in range(X_c.shape[1])]\n",
    "pd.Series(VIF_c,X_c.columns)\n",
    "\n",
    "#If the VIF SCORE is greater than 5 than there is multicolinearity."
   ]
  },
  {
   "cell_type": "markdown",
   "id": "10a29580-1158-4f2e-acf9-424408c69c57",
   "metadata": {},
   "source": [
    "<div class = 'alert alert-success'>\n",
    "Variables showing severe multicollinearity based on VIF > 5: x2, x3, x4, x5, x6, x7, x8\n",
    "</div>"
   ]
  },
  {
   "cell_type": "markdown",
   "id": "a6a45066-91dd-4915-84c2-f3829e7eb463",
   "metadata": {},
   "source": [
    "Small eigenvalues are indications of multicollinearity, and a large condition number indicates multicollinearity exists (but tells us nothing about how many regressors are involved).\n",
    "<br>\n",
    "The condition number of X′X is: <br>\n",
    "$κ$ = $λ_max$ / $λ_min$ <br>\n",
    "\n",
    "This number measures the spread in the eigenvalues:\n",
    "- If κ < 100, no serious problem\n",
    "- If 100 < κ < 1000, moderate to strong multicollinearity\n",
    "- If κ > 1000, strong multicollinearity"
   ]
  },
  {
   "cell_type": "markdown",
   "id": "e3eff809-de60-4aab-bae2-5be080ef0cbe",
   "metadata": {},
   "source": [
    "The condition indices of X′X are: <br>\n",
    "\n",
    "$κ_j$ = $λ_max$ / $λ_j$, for j = 1, . . . , p <br>\n",
    "\n",
    "The number of condition indices that are large **(>1000)**\n",
    "provide a measure of the number of near linear dependencies in X′X\n"
   ]
  },
  {
   "cell_type": "code",
   "execution_count": 644,
   "id": "34b3f7b7-65ec-4d36-9e6a-54f650905a10",
   "metadata": {},
   "outputs": [
    {
     "name": "stdout",
     "output_type": "stream",
     "text": [
      "[[39.         15.33336398 16.36343509  5.37309001  9.1044661   2.40970388\n",
      "   4.91041283  5.65325835 -1.60239553]\n",
      " [15.33336398 39.         34.65241158 10.99608016  7.75635753  9.87451444\n",
      "   9.84073743  8.31582656 -4.06485588]\n",
      " [16.36343509 34.65241158 39.         18.10957535 15.08317944 16.59854148\n",
      "  18.01762826 13.57582538 -4.74794854]\n",
      " [ 5.37309001 10.99608016 18.10957535 39.         35.8742045  35.53646165\n",
      "  38.18318757 35.51024734 -0.3221334 ]\n",
      " [ 9.1044661   7.75635753 15.08317944 35.8742045  39.         35.39738595\n",
      "  36.21733688 34.83013411 -1.30415042]\n",
      " [ 2.40970388  9.87451444 16.59854148 35.53646165 35.39738595 39.\n",
      "  35.70245858 30.92944379  0.80343314]\n",
      " [ 4.91041283  9.84073743 18.01762826 38.18318757 36.21733688 35.70245858\n",
      "  39.         35.2676789   1.74098857]\n",
      " [ 5.65325835  8.31582656 13.57582538 35.51024734 34.83013411 30.92944379\n",
      "  35.2676789  39.         -1.50697287]\n",
      " [-1.60239553 -4.06485588 -4.74794854 -0.3221334  -1.30415042  0.80343314\n",
      "   1.74098857 -1.50697287 39.        ]]\n",
      "----------------------------------------------------------------------------\n",
      "kappa =  323.2101514072124\n",
      "----------------------------------------------------------------------------\n",
      "[  1.           2.79900594   5.14178948   6.82915032  24.96420285\n",
      " 323.21015141 149.05872906  79.58408776  47.54401671]\n"
     ]
    }
   ],
   "source": [
    "# Find kappa using eigenvalues\n",
    "X = lm_scaled.model.wexog[:,1:]\n",
    "XTX = X.T @ X\n",
    "print(XTX)\n",
    "evals, evecs = np.linalg.eig(XTX)\n",
    "eigmax = np.max(evals)\n",
    "print('----------------------------------------------------------------------------')\n",
    "print('kappa = ',eigmax/np.min(evals))\n",
    "print('----------------------------------------------------------------------------')\n",
    "print(eigmax/evals)"
   ]
  },
  {
   "cell_type": "markdown",
   "id": "ef876f8a-699f-4be8-8831-f4117240c515",
   "metadata": {},
   "source": [
    "<div class = 'alert alert-success'>\n",
    "Kappa comes out to be 323.2101, which is less than 1000 but greater than 100, indicating that there is moderate to strong multicollinearity in the dataset. \n",
    "</div>"
   ]
  },
  {
   "cell_type": "markdown",
   "id": "b8828bc9-d38d-48a9-9cf3-9acf889cdc99",
   "metadata": {},
   "source": [
    "<div class = 'alert alert-warning'>\n",
    "The nature and strength of the identified multicollinearities come from constraints that come from the assumptions of a MLR model (normality, independence, homoscedasticity, linear relationship of response varible with at least one predictor).\n",
    "The data could also have physical constraints present that are independent of the data collection method. We could also have an overdefined model which in this case we should redefine the model using smaller set of regressors, do preliminary studies using subsets of regressors, or use principal components type regressor methods to remove regressors.\n",
    "<br>\n",
    "The strength of the multicollinearity according to kappa is 323.2101 which is indicative of a moderate to strong correlation.\n",
    "<br> \n",
    "To deal with multicollinearity one should:\n",
    "<br>\n",
    "1. Collect more data <br>\n",
    "2. Re-specify the model <br>\n",
    "3. Ridge Regression\n",
    "\n",
    "</div>"
   ]
  },
  {
   "cell_type": "code",
   "execution_count": 454,
   "id": "c1da7535-4527-432c-9893-b30e6f1d49ba",
   "metadata": {},
   "outputs": [
    {
     "data": {
      "text/plain": [
       "[<matplotlib.lines.Line2D at 0x21ea1dcf4c0>,\n",
       " <matplotlib.lines.Line2D at 0x21ea1dcf4f0>,\n",
       " <matplotlib.lines.Line2D at 0x21ea1dcf610>,\n",
       " <matplotlib.lines.Line2D at 0x21ea1dcf730>,\n",
       " <matplotlib.lines.Line2D at 0x21ea1dcf850>,\n",
       " <matplotlib.lines.Line2D at 0x21ea1dcf970>,\n",
       " <matplotlib.lines.Line2D at 0x21ea1dcfa90>,\n",
       " <matplotlib.lines.Line2D at 0x21ea1dcfbb0>,\n",
       " <matplotlib.lines.Line2D at 0x21ea1dcfcd0>]"
      ]
     },
     "execution_count": 454,
     "metadata": {},
     "output_type": "execute_result"
    },
    {
     "data": {
      "image/png": "[encoded data removed]",
      "text/plain": [
       "<Figure size 432x288 with 1 Axes>"
      ]
     },
     "metadata": {
      "needs_background": "light"
     },
     "output_type": "display_data"
    }
   ],
   "source": [
    "# Try different values of k to get estimates of ridge trace for ridge regression\n",
    "from sklearn import linear_model\n",
    "df_X = df_scale.drop(['Obs','y'], axis = 1)\n",
    "n_k = 50\n",
    "ks = np.linspace(0.001,0.3,n_k)\n",
    "coefs = []\n",
    "for k in ks:\n",
    "    ridge = linear_model.Ridge(alpha = k)\n",
    "    ridge.fit(df_X, df_scale.y)\n",
    "    coefs.append(ridge.coef_)\n",
    "\n",
    "ax = plt.gca()\n",
    "ax.plot(ks,coefs,'k',alpha = 0.2)\n"
   ]
  },
  {
   "cell_type": "markdown",
   "id": "ca8673dc-d9a2-46cf-9dcb-3eb8938e3ff7",
   "metadata": {},
   "source": [
    "To obtain the ridge solution for the data, we must get the\n",
    "regression estimations for several values 0 ≤ k ≤ 1, with X′X in\n",
    "correlation form.\n"
   ]
  },
  {
   "cell_type": "code",
   "execution_count": 455,
   "id": "8fe1119c-f893-4fed-aa74-d8582025ec6e",
   "metadata": {},
   "outputs": [
    {
     "name": "stdout",
     "output_type": "stream",
     "text": [
      "0   -0.218194\n",
      "1    0.229581\n",
      "2    0.249090\n",
      "3   -0.190111\n",
      "4    1.255856\n",
      "5   -0.050956\n",
      "6    0.230892\n",
      "7   -0.579318\n",
      "8   -0.000982\n",
      "dtype: float64\n"
     ]
    }
   ],
   "source": [
    "# Get Ridge regression coefficients using k = 0.032\n",
    "XTX_B = XTX + 0.032*np.identity(df_X.shape[1])\n",
    "RR_B = np.linalg.inv(XTX) @ df_X.T @ df_scale.y\n",
    "print(RR_B)"
   ]
  },
  {
   "cell_type": "markdown",
   "id": "759bd201-bc2b-4e41-9916-28c07b1bd8cc",
   "metadata": {},
   "source": [
    "---"
   ]
  },
  {
   "cell_type": "markdown",
   "id": "664a880a-2be0-488c-9c49-814fde2aec56",
   "metadata": {},
   "source": [
    "## **Problem 5:**\n",
    "**(a) Using the information obtained from Problems 1-4 above, identify and make any necessary transformations on the response variable and/or predictor variables. State the new model.**\n"
   ]
  },
  {
   "cell_type": "markdown",
   "id": "b47c88da-ad59-4031-85be-be7ab92b3004",
   "metadata": {},
   "source": [
    "\n",
    "**Variables that need transformations: y, x6, x8, x9** <br> **Variables with multicollinearity: x2, x3, x4, x5, x6, x7, x8**"
   ]
  },
  {
   "cell_type": "code",
   "execution_count": 650,
   "id": "f027a513-267e-4c60-88b6-d5ef0a2cc86a",
   "metadata": {},
   "outputs": [
    {
     "data": {
      "text/html": [
       "<div>\n",
       "<style scoped>\n",
       "    .dataframe tbody tr th:only-of-type {\n",
       "        vertical-align: middle;\n",
       "    }\n",
       "\n",
       "    .dataframe tbody tr th {\n",
       "        vertical-align: top;\n",
       "    }\n",
       "\n",
       "    .dataframe thead th {\n",
       "        text-align: right;\n",
       "    }\n",
       "</style>\n",
       "<table border=\"1\" class=\"dataframe\">\n",
       "  <thead>\n",
       "    <tr style=\"text-align: right;\">\n",
       "      <th></th>\n",
       "      <th>y</th>\n",
       "      <th>x1</th>\n",
       "      <th>x2</th>\n",
       "      <th>x3</th>\n",
       "      <th>x4</th>\n",
       "      <th>x5</th>\n",
       "      <th>x6</th>\n",
       "      <th>x7</th>\n",
       "      <th>x8</th>\n",
       "      <th>x9</th>\n",
       "    </tr>\n",
       "  </thead>\n",
       "  <tbody>\n",
       "    <tr>\n",
       "      <th>0</th>\n",
       "      <td>-1.028900</td>\n",
       "      <td>102</td>\n",
       "      <td>69</td>\n",
       "      <td>133</td>\n",
       "      <td>125</td>\n",
       "      <td>36</td>\n",
       "      <td>53</td>\n",
       "      <td>106</td>\n",
       "      <td>5326</td>\n",
       "      <td>-1.335134</td>\n",
       "    </tr>\n",
       "    <tr>\n",
       "      <th>1</th>\n",
       "      <td>0.676662</td>\n",
       "      <td>1220</td>\n",
       "      <td>723</td>\n",
       "      <td>2616</td>\n",
       "      <td>953</td>\n",
       "      <td>132</td>\n",
       "      <td>252</td>\n",
       "      <td>574</td>\n",
       "      <td>36138</td>\n",
       "      <td>-0.465518</td>\n",
       "    </tr>\n",
       "    <tr>\n",
       "      <th>2</th>\n",
       "      <td>-1.680934</td>\n",
       "      <td>139</td>\n",
       "      <td>138</td>\n",
       "      <td>46</td>\n",
       "      <td>35</td>\n",
       "      <td>6</td>\n",
       "      <td>9</td>\n",
       "      <td>27</td>\n",
       "      <td>2594</td>\n",
       "      <td>0.235170</td>\n",
       "    </tr>\n",
       "    <tr>\n",
       "      <th>3</th>\n",
       "      <td>-0.963382</td>\n",
       "      <td>221</td>\n",
       "      <td>637</td>\n",
       "      <td>153</td>\n",
       "      <td>115</td>\n",
       "      <td>16</td>\n",
       "      <td>41</td>\n",
       "      <td>83</td>\n",
       "      <td>10346</td>\n",
       "      <td>-0.077802</td>\n",
       "    </tr>\n",
       "    <tr>\n",
       "      <th>4</th>\n",
       "      <td>-1.889152</td>\n",
       "      <td>12</td>\n",
       "      <td>0</td>\n",
       "      <td>1</td>\n",
       "      <td>9</td>\n",
       "      <td>1</td>\n",
       "      <td>2</td>\n",
       "      <td>7</td>\n",
       "      <td>381</td>\n",
       "      <td>-0.327451</td>\n",
       "    </tr>\n",
       "  </tbody>\n",
       "</table>\n",
       "</div>"
      ],
      "text/plain": [
       "          y    x1   x2    x3   x4   x5   x6   x7     x8        x9\n",
       "0 -1.028900   102   69   133  125   36   53  106   5326 -1.335134\n",
       "1  0.676662  1220  723  2616  953  132  252  574  36138 -0.465518\n",
       "2 -1.680934   139  138    46   35    6    9   27   2594  0.235170\n",
       "3 -0.963382   221  637   153  115   16   41   83  10346 -0.077802\n",
       "4 -1.889152    12    0     1    9    1    2    7    381 -0.327451"
      ]
     },
     "execution_count": 650,
     "metadata": {},
     "output_type": "execute_result"
    }
   ],
   "source": [
    "#Transform the variables: watch out for interpretation of these\n",
    "df2 = df[['y','x1','x2','x3','x4','x5','x6','x7','x8','x9']].copy()\n",
    "\n",
    "#df2['x4'] = np.sqrt(df2['x4']) \n",
    "#df2['x5'] = np.sqrt(df2['x5'])\n",
    "#df2['x6'] = np.sqrt(df2['x6']) \n",
    "#df2['x7'] = np.sqrt(df2['x7'])\n",
    "#df2['x8'] = np.log(df2['x8']) \n",
    "df2['x9'] = np.log(abs(df2['x9']))\n",
    "df2['y'] = np.log(df2.y)\n",
    "\n",
    "df2.head()"
   ]
  },
  {
   "cell_type": "markdown",
   "id": "43e8570c-7d1a-44a0-92db-c0cb058be7a5",
   "metadata": {},
   "source": [
    "Tried several combinations of transformations of the regressors and the response variable and the one above gave me the best results for MSE and R-squared."
   ]
  },
  {
   "cell_type": "code",
   "execution_count": 651,
   "id": "29ebb37d-2d2c-4370-8a49-ba9dbeb57ecd",
   "metadata": {},
   "outputs": [
    {
     "name": "stdout",
     "output_type": "stream",
     "text": [
      "                            OLS Regression Results                            \n",
      "==============================================================================\n",
      "Dep. Variable:                      y   R-squared:                       0.713\n",
      "Model:                            OLS   Adj. R-squared:                  0.627\n",
      "Method:                 Least Squares   F-statistic:                     8.289\n",
      "Date:                Tue, 18 Oct 2022   Prob (F-statistic):           4.46e-06\n",
      "Time:                        20:45:06   Log-Likelihood:                -31.271\n",
      "No. Observations:                  40   AIC:                             82.54\n",
      "Df Residuals:                      30   BIC:                             99.43\n",
      "Df Model:                           9                                         \n",
      "Covariance Type:            nonrobust                                         \n",
      "==============================================================================\n",
      "                 coef    std err          t      P>|t|      [0.025      0.975]\n",
      "------------------------------------------------------------------------------\n",
      "Intercept   6.939e-17      0.097   7.19e-16      1.000      -0.197       0.197\n",
      "x1            -0.2146      0.139     -1.541      0.134      -0.499       0.070\n",
      "x2             0.5566      0.260      2.143      0.040       0.026       1.087\n",
      "x3            -0.0933      0.282     -0.331      0.743      -0.669       0.482\n",
      "x4            -0.2191      0.562     -0.390      0.700      -1.367       0.929\n",
      "x5             1.7866      0.384      4.657      0.000       1.003       2.570\n",
      "x6            -0.3693      0.356     -1.037      0.308      -1.096       0.358\n",
      "x7            -0.2722      0.572     -0.476      0.638      -1.441       0.897\n",
      "x8            -0.3329      0.314     -1.059      0.298      -0.975       0.309\n",
      "x9             0.0407      0.122      0.333      0.742      -0.209       0.291\n",
      "==============================================================================\n",
      "Omnibus:                        0.601   Durbin-Watson:                   1.813\n",
      "Prob(Omnibus):                  0.740   Jarque-Bera (JB):                0.098\n",
      "Skew:                           0.062   Prob(JB):                        0.952\n",
      "Kurtosis:                       3.208   Cond. No.                         17.1\n",
      "==============================================================================\n",
      "\n",
      "Notes:\n",
      "[1] Standard Errors assume that the covariance matrix of the errors is correctly specified.\n"
     ]
    }
   ],
   "source": [
    "df2_s = (df2 - df2.mean())/df2.std()\n",
    "df2_regression = ols('y~x1+x2+x3+x4+x5+x6+x7+x8+x9', df2_s).fit()\n",
    "print(df2_regression.summary())"
   ]
  },
  {
   "cell_type": "code",
   "execution_count": 652,
   "id": "282170ca-b561-4923-b387-a8826b799c04",
   "metadata": {},
   "outputs": [
    {
     "data": {
      "image/png": "[encoded data removed]",
      "text/plain": [
       "<Figure size 2520x1440 with 9 Axes>"
      ]
     },
     "metadata": {
      "needs_background": "light"
     },
     "output_type": "display_data"
    }
   ],
   "source": [
    "plt.subplots(figsize=(35,20))\n",
    "plt.subplot(2, 9, 1) \n",
    "plt.scatter(df2.x1,influence2.resid_studentized_external)  \n",
    "plt.xlabel('x1')\n",
    "plt.ylabel('R - Student Residual')\n",
    "plt.axhline(0)\n",
    "\n",
    "plt.subplot(2, 9, 2) \n",
    "plt.scatter(df2.x2,influence2.resid_studentized_external)\n",
    "plt.xlabel('x2')\n",
    "plt.axhline(0)\n",
    "\n",
    "plt.subplot(2, 9, 3) #\n",
    "plt.scatter(df2.x3,influence2.resid_studentized_external)\n",
    "plt.xlabel('x3')\n",
    "plt.axhline(0)\n",
    "\n",
    "plt.subplot(2, 9, 4) \n",
    "plt.scatter(df2.x4,influence2.resid_studentized_external)\n",
    "plt.xlabel('x4')\n",
    "plt.axhline(0)\n",
    "\n",
    "plt.subplot(2, 9, 5) \n",
    "plt.scatter(df2.x5,influence2.resid_studentized_external)\n",
    "plt.xlabel('x5')\n",
    "plt.axhline(0)\n",
    "\n",
    "plt.subplot(2, 9, 6) \n",
    "plt.scatter(df2.x6,influence2.resid_studentized_external)\n",
    "plt.xlabel('x6')\n",
    "plt.axhline(0)\n",
    "\n",
    "plt.subplot(2, 9, 7) #\n",
    "plt.scatter(df2.x7,influence2.resid_studentized_external)\n",
    "plt.xlabel('x7')\n",
    "plt.axhline(0)\n",
    "\n",
    "plt.subplot(2, 9, 8) \n",
    "plt.scatter(df2.x8,influence2.resid_studentized_external)\n",
    "plt.xlabel('x8')\n",
    "plt.axhline(0)\n",
    "\n",
    "plt.subplot(2, 9, 9) \n",
    "plt.scatter(df2.x9,influence2.resid_studentized_external)\n",
    "plt.xlabel('x9')\n",
    "plt.axhline(0)\n",
    "\n",
    "plt.show()"
   ]
  },
  {
   "cell_type": "markdown",
   "id": "22f1f9a0-72c7-4dd9-8441-17243f239883",
   "metadata": {},
   "source": [
    "From the residuals vs. fitted values plot we can see that the data is more equally spread after transforming the response and predictor x9."
   ]
  },
  {
   "cell_type": "markdown",
   "id": "bd4f29d3-a730-4967-a95b-d46582053ec8",
   "metadata": {},
   "source": [
    "**(b) Afterwards, fit and present the new prediction equation, evaluate its residuals, identify any highly\n",
    "influential points, and delete any outliers using the class criteria. Re-fit and present the final\n",
    "prediction equation obtained after deleting the chosen observations as well as its measures of the\n",
    "goodness of the fit.**"
   ]
  },
  {
   "cell_type": "code",
   "execution_count": 653,
   "id": "fb27b678-34af-4b44-be57-f50ab7cf9f20",
   "metadata": {},
   "outputs": [
    {
     "data": {
      "text/plain": [
       "array([ 0.56358068,  2.15749833, -0.35968684,  0.20591746, -0.65351466,\n",
       "       -0.69544787,  0.75761381,  1.44000695,  0.54717078, -0.63522893,\n",
       "       -0.41056316,  0.04254719, -0.48009328, -0.38724649,  2.15859217,\n",
       "       -0.40491215, -0.54472527, -0.75627514, -0.65606522, -0.56715596,\n",
       "       -0.50750239, -0.77990196, -0.85149862, -0.76115944, -0.64187749,\n",
       "       -0.02407581, -0.69819315,  1.47994619, -0.22808859, -0.54632893,\n",
       "       -0.12028485, -0.23350096,  0.56923794,  0.17965424,  1.56031108,\n",
       "        0.03511371, -0.51935625, -0.2095388 , -0.55013256,  1.52516424])"
      ]
     },
     "execution_count": 653,
     "metadata": {},
     "output_type": "execute_result"
    }
   ],
   "source": [
    "df2_regression.predict()"
   ]
  },
  {
   "cell_type": "code",
   "execution_count": 654,
   "id": "8f7bd245-da1a-4ab1-9d86-65b485bab0eb",
   "metadata": {},
   "outputs": [
    {
     "data": {
      "image/png": "[encoded data removed]",
      "text/plain": [
       "<Figure size 2160x432 with 4 Axes>"
      ]
     },
     "metadata": {
      "needs_background": "light"
     },
     "output_type": "display_data"
    }
   ],
   "source": [
    "influence2 = df2_regression.get_influence()\n",
    "f, ax = plt.subplots(figsize=(30,6))\n",
    "\n",
    "plt.subplot(1, 4, 1)\n",
    "plt.scatter(df2_regression.fittedvalues,df2_regression.resid)\n",
    "plt.axhline(0)\n",
    "plt.xlabel('Fitted values')\n",
    "plt.ylabel('Residuals')\n",
    "\n",
    "# Standardized Residuals\n",
    "standard_residual = influence2.resid/np.sqrt(df2_regression.mse_resid)\n",
    "plt.subplot(1, 4, 2) \n",
    "plt.scatter(df2_regression.fittedvalues,standard_residual)\n",
    "plt.xlabel('Fitted values')\n",
    "plt.ylabel('Standardized Residual')\n",
    "# plt.title(\"\")\n",
    "plt.axhline(0)\n",
    "\n",
    "# Studentized Residuals\n",
    "plt.subplot(1, 4, 3) \n",
    "plt.scatter(df2_regression.fittedvalues,influence2.resid_studentized)\n",
    "plt.xlabel('Fitted values')\n",
    "plt.ylabel('Studentized Residual, t_i')\n",
    "# plt.title(\"\")\n",
    "plt.axhline(0)\n",
    "\n",
    "# R-Studentized Residuals external\n",
    "plt.subplot(1, 4, 4) \n",
    "plt.scatter(df2_regression.fittedvalues,influence2.resid_studentized_external)\n",
    "plt.xlabel('Fitted values')\n",
    "plt.ylabel('R-Student Residual')\n",
    "#plt.title(\"\")\n",
    "plt.axhline(0)\n",
    "\n",
    "plt.show()"
   ]
  },
  {
   "cell_type": "markdown",
   "id": "6be06e8e-2b2b-48bd-9f76-0aeaf46efef1",
   "metadata": {},
   "source": [
    "The data with the transformed variables shows a more spread out variance. We do see some outliers that need to be taken care of."
   ]
  },
  {
   "cell_type": "code",
   "execution_count": 655,
   "id": "747b4f71-57af-40c6-8529-1296a0032ea4",
   "metadata": {},
   "outputs": [
    {
     "data": {
      "image/png": "[encoded data removed]",
      "text/plain": [
       "<Figure size 432x288 with 1 Axes>"
      ]
     },
     "metadata": {
      "needs_background": "light"
     },
     "output_type": "display_data"
    },
    {
     "data": {
      "text/plain": [
       "<Figure size 576x432 with 0 Axes>"
      ]
     },
     "metadata": {},
     "output_type": "display_data"
    }
   ],
   "source": [
    "# Q-Q plot: helps determine if the residuals follow a normal distribution. Data should roughly follow a 45 degree angle.\n",
    "residuals_tr = df2_regression.resid\n",
    "fig = sm.qqplot(residuals_tr, fit = True, line= '45')\n",
    "f = plt.figure()\n",
    "f.set_figwidth(8)\n",
    "f.set_figheight(6)\n",
    "plt.show()"
   ]
  },
  {
   "cell_type": "markdown",
   "id": "e3b6be88-9e39-4593-a71a-d7fdf2d01037",
   "metadata": {},
   "source": [
    "The residuals of our model also seem to violate normality at the tails, but this could be due to outliers that are yet needed to be removed. "
   ]
  },
  {
   "cell_type": "markdown",
   "id": "018c97e4-fdca-4037-bd54-8f1d82fb5836",
   "metadata": {},
   "source": [
    "#### Indentifying Outliers/Influential Points and Removing them:"
   ]
  },
  {
   "cell_type": "markdown",
   "id": "3fa4e0fa-1bb0-4a9a-b90e-3a4520d7ea28",
   "metadata": {},
   "source": [
    "-Bonferroni's cutoff previously detected observation **1** as an outlier, and we know we have influential points and leverage points in the data based on the measures of influence and the residuals plots."
   ]
  },
  {
   "cell_type": "code",
   "execution_count": 657,
   "id": "b61c8b53-d1e8-4b44-8e27-3c2eeec24e78",
   "metadata": {},
   "outputs": [
    {
     "data": {
      "image/png": "[encoded data removed]",
      "text/plain": [
       "<Figure size 864x576 with 1 Axes>"
      ]
     },
     "metadata": {
      "needs_background": "light"
     },
     "output_type": "display_data"
    }
   ],
   "source": [
    "Xnew = df2_regression.model.wexog # get the design matrix\n",
    "lm_new = sm.OLS(df2['y'], sm.add_constant(Xnew)).fit()\n",
    "\n",
    "## Plot the leverage vs residuals graph\n",
    "fig, ax = plt.subplots(figsize=(12,8))\n",
    "fig = sm.graphics.influence_plot(lm_new, alpha  = 0.05, ax = ax, criterion=\"cooks\")"
   ]
  },
  {
   "cell_type": "code",
   "execution_count": 600,
   "id": "cf9cba0d-2c19-46e7-ba8c-25f3bea5fc3b",
   "metadata": {},
   "outputs": [
    {
     "data": {
      "text/html": [
       "<div>\n",
       "<style scoped>\n",
       "    .dataframe tbody tr th:only-of-type {\n",
       "        vertical-align: middle;\n",
       "    }\n",
       "\n",
       "    .dataframe tbody tr th {\n",
       "        vertical-align: top;\n",
       "    }\n",
       "\n",
       "    .dataframe thead th {\n",
       "        text-align: right;\n",
       "    }\n",
       "</style>\n",
       "<table border=\"1\" class=\"dataframe\">\n",
       "  <thead>\n",
       "    <tr style=\"text-align: right;\">\n",
       "      <th></th>\n",
       "      <th>dfbeta-x1</th>\n",
       "      <th>dfbeta-x2</th>\n",
       "      <th>dfbeta-x3</th>\n",
       "      <th>dfbeta-x4</th>\n",
       "      <th>dfbeta-x5</th>\n",
       "      <th>dfbeta-x6</th>\n",
       "      <th>dfbeta-x7</th>\n",
       "      <th>dfbeta-x8</th>\n",
       "      <th>dfbeta-x9</th>\n",
       "      <th>dfbeta-y</th>\n",
       "    </tr>\n",
       "  </thead>\n",
       "  <tbody>\n",
       "    <tr>\n",
       "      <th>1</th>\n",
       "      <td>-0.408454</td>\n",
       "      <td>0.165265</td>\n",
       "      <td>-0.509080</td>\n",
       "      <td>0.532467</td>\n",
       "      <td>0.075424</td>\n",
       "      <td>-0.427528</td>\n",
       "      <td>0.296291</td>\n",
       "      <td>0.572668</td>\n",
       "      <td>-0.518554</td>\n",
       "      <td>0.220904</td>\n",
       "    </tr>\n",
       "    <tr>\n",
       "      <th>3</th>\n",
       "      <td>0.016643</td>\n",
       "      <td>0.041335</td>\n",
       "      <td>0.395638</td>\n",
       "      <td>-0.377894</td>\n",
       "      <td>-0.166952</td>\n",
       "      <td>-0.113098</td>\n",
       "      <td>0.049506</td>\n",
       "      <td>0.215550</td>\n",
       "      <td>0.048078</td>\n",
       "      <td>-0.015239</td>\n",
       "    </tr>\n",
       "    <tr>\n",
       "      <th>7</th>\n",
       "      <td>0.194189</td>\n",
       "      <td>-0.100689</td>\n",
       "      <td>0.317349</td>\n",
       "      <td>-0.245790</td>\n",
       "      <td>-0.109428</td>\n",
       "      <td>-0.101083</td>\n",
       "      <td>0.019059</td>\n",
       "      <td>0.447993</td>\n",
       "      <td>-0.759086</td>\n",
       "      <td>-0.159333</td>\n",
       "    </tr>\n",
       "    <tr>\n",
       "      <th>8</th>\n",
       "      <td>0.247322</td>\n",
       "      <td>-0.184767</td>\n",
       "      <td>0.151932</td>\n",
       "      <td>-0.120848</td>\n",
       "      <td>0.104504</td>\n",
       "      <td>0.320219</td>\n",
       "      <td>-0.406304</td>\n",
       "      <td>0.090093</td>\n",
       "      <td>-0.327419</td>\n",
       "      <td>-0.204437</td>\n",
       "    </tr>\n",
       "    <tr>\n",
       "      <th>9</th>\n",
       "      <td>-0.279999</td>\n",
       "      <td>0.103004</td>\n",
       "      <td>-0.128686</td>\n",
       "      <td>0.077036</td>\n",
       "      <td>-0.098597</td>\n",
       "      <td>-0.013612</td>\n",
       "      <td>0.076925</td>\n",
       "      <td>-0.009444</td>\n",
       "      <td>0.097623</td>\n",
       "      <td>0.439713</td>\n",
       "    </tr>\n",
       "    <tr>\n",
       "      <th>14</th>\n",
       "      <td>0.339075</td>\n",
       "      <td>0.693966</td>\n",
       "      <td>-0.195218</td>\n",
       "      <td>0.000338</td>\n",
       "      <td>0.547750</td>\n",
       "      <td>-1.848998</td>\n",
       "      <td>-0.122801</td>\n",
       "      <td>0.357606</td>\n",
       "      <td>0.782039</td>\n",
       "      <td>-0.275136</td>\n",
       "    </tr>\n",
       "    <tr>\n",
       "      <th>15</th>\n",
       "      <td>-0.095275</td>\n",
       "      <td>-0.115426</td>\n",
       "      <td>-0.355201</td>\n",
       "      <td>0.452822</td>\n",
       "      <td>-0.144092</td>\n",
       "      <td>0.060166</td>\n",
       "      <td>-0.099569</td>\n",
       "      <td>0.070996</td>\n",
       "      <td>-0.008095</td>\n",
       "      <td>0.306755</td>\n",
       "    </tr>\n",
       "    <tr>\n",
       "      <th>17</th>\n",
       "      <td>-0.384376</td>\n",
       "      <td>0.073430</td>\n",
       "      <td>-0.068654</td>\n",
       "      <td>0.068152</td>\n",
       "      <td>0.040408</td>\n",
       "      <td>0.148355</td>\n",
       "      <td>0.076926</td>\n",
       "      <td>-0.169148</td>\n",
       "      <td>0.024622</td>\n",
       "      <td>0.331818</td>\n",
       "    </tr>\n",
       "    <tr>\n",
       "      <th>20</th>\n",
       "      <td>0.291238</td>\n",
       "      <td>-0.147849</td>\n",
       "      <td>0.016958</td>\n",
       "      <td>0.068083</td>\n",
       "      <td>0.365117</td>\n",
       "      <td>0.058343</td>\n",
       "      <td>-0.021752</td>\n",
       "      <td>-0.436412</td>\n",
       "      <td>0.117575</td>\n",
       "      <td>-0.456639</td>\n",
       "    </tr>\n",
       "    <tr>\n",
       "      <th>22</th>\n",
       "      <td>-0.550551</td>\n",
       "      <td>0.173017</td>\n",
       "      <td>0.722019</td>\n",
       "      <td>-0.747326</td>\n",
       "      <td>-0.492763</td>\n",
       "      <td>0.292938</td>\n",
       "      <td>0.006846</td>\n",
       "      <td>0.447863</td>\n",
       "      <td>-0.111053</td>\n",
       "      <td>0.319592</td>\n",
       "    </tr>\n",
       "    <tr>\n",
       "      <th>23</th>\n",
       "      <td>0.363940</td>\n",
       "      <td>-0.253105</td>\n",
       "      <td>0.135053</td>\n",
       "      <td>-0.038158</td>\n",
       "      <td>0.282721</td>\n",
       "      <td>0.211229</td>\n",
       "      <td>-0.314377</td>\n",
       "      <td>-0.144357</td>\n",
       "      <td>-0.168073</td>\n",
       "      <td>-0.488324</td>\n",
       "    </tr>\n",
       "    <tr>\n",
       "      <th>30</th>\n",
       "      <td>-0.178467</td>\n",
       "      <td>2.533610</td>\n",
       "      <td>-0.265454</td>\n",
       "      <td>-0.355172</td>\n",
       "      <td>-0.072429</td>\n",
       "      <td>-0.229290</td>\n",
       "      <td>0.337045</td>\n",
       "      <td>0.125559</td>\n",
       "      <td>-0.156773</td>\n",
       "      <td>0.188954</td>\n",
       "    </tr>\n",
       "    <tr>\n",
       "      <th>38</th>\n",
       "      <td>0.279956</td>\n",
       "      <td>0.167172</td>\n",
       "      <td>-0.215721</td>\n",
       "      <td>0.127492</td>\n",
       "      <td>0.147157</td>\n",
       "      <td>-0.411365</td>\n",
       "      <td>0.740207</td>\n",
       "      <td>-0.389932</td>\n",
       "      <td>0.171752</td>\n",
       "      <td>-0.261260</td>\n",
       "    </tr>\n",
       "    <tr>\n",
       "      <th>39</th>\n",
       "      <td>-0.377537</td>\n",
       "      <td>0.116468</td>\n",
       "      <td>-0.538583</td>\n",
       "      <td>-1.024700</td>\n",
       "      <td>0.260717</td>\n",
       "      <td>-0.270554</td>\n",
       "      <td>0.377560</td>\n",
       "      <td>0.163306</td>\n",
       "      <td>-0.161277</td>\n",
       "      <td>0.406488</td>\n",
       "    </tr>\n",
       "  </tbody>\n",
       "</table>\n",
       "</div>"
      ],
      "text/plain": [
       "    dfbeta-x1  dfbeta-x2  dfbeta-x3  dfbeta-x4  dfbeta-x5  dfbeta-x6  \\\n",
       "1   -0.408454   0.165265  -0.509080   0.532467   0.075424  -0.427528   \n",
       "3    0.016643   0.041335   0.395638  -0.377894  -0.166952  -0.113098   \n",
       "7    0.194189  -0.100689   0.317349  -0.245790  -0.109428  -0.101083   \n",
       "8    0.247322  -0.184767   0.151932  -0.120848   0.104504   0.320219   \n",
       "9   -0.279999   0.103004  -0.128686   0.077036  -0.098597  -0.013612   \n",
       "14   0.339075   0.693966  -0.195218   0.000338   0.547750  -1.848998   \n",
       "15  -0.095275  -0.115426  -0.355201   0.452822  -0.144092   0.060166   \n",
       "17  -0.384376   0.073430  -0.068654   0.068152   0.040408   0.148355   \n",
       "20   0.291238  -0.147849   0.016958   0.068083   0.365117   0.058343   \n",
       "22  -0.550551   0.173017   0.722019  -0.747326  -0.492763   0.292938   \n",
       "23   0.363940  -0.253105   0.135053  -0.038158   0.282721   0.211229   \n",
       "30  -0.178467   2.533610  -0.265454  -0.355172  -0.072429  -0.229290   \n",
       "38   0.279956   0.167172  -0.215721   0.127492   0.147157  -0.411365   \n",
       "39  -0.377537   0.116468  -0.538583  -1.024700   0.260717  -0.270554   \n",
       "\n",
       "    dfbeta-x7  dfbeta-x8  dfbeta-x9  dfbeta-y  \n",
       "1    0.296291   0.572668  -0.518554  0.220904  \n",
       "3    0.049506   0.215550   0.048078 -0.015239  \n",
       "7    0.019059   0.447993  -0.759086 -0.159333  \n",
       "8   -0.406304   0.090093  -0.327419 -0.204437  \n",
       "9    0.076925  -0.009444   0.097623  0.439713  \n",
       "14  -0.122801   0.357606   0.782039 -0.275136  \n",
       "15  -0.099569   0.070996  -0.008095  0.306755  \n",
       "17   0.076926  -0.169148   0.024622  0.331818  \n",
       "20  -0.021752  -0.436412   0.117575 -0.456639  \n",
       "22   0.006846   0.447863  -0.111053  0.319592  \n",
       "23  -0.314377  -0.144357  -0.168073 -0.488324  \n",
       "30   0.337045   0.125559  -0.156773  0.188954  \n",
       "38   0.740207  -0.389932   0.171752 -0.261260  \n",
       "39   0.377560   0.163306  -0.161277  0.406488  "
      ]
     },
     "execution_count": 600,
     "metadata": {},
     "output_type": "execute_result"
    }
   ],
   "source": [
    "# DFBETAS\n",
    "dfbetas = pd.DataFrame(influence2.dfbetas)\n",
    "dfbetas.columns = ['dfbeta-x1','dfbeta-x2', 'dfbeta-x3','dfbeta-x4', 'dfbeta-x5', 'dfbeta-x6','dfbeta-x7','dfbeta-x8','dfbeta-x9','dfbeta-y']\n",
    "cutoff = 2/np.sqrt(df.shape[0])\n",
    "dfbetas[dfbetas.apply(lambda x: (abs(x['dfbeta-x1']) > cutoff) |  \\\n",
    "    (abs(x['dfbeta-x2']) > cutoff) | (abs(x['dfbeta-x3']) > cutoff) | (abs(x['dfbeta-x4']) > cutoff) | (abs(x['dfbeta-x5']) > cutoff) | \\\n",
    "                      (abs(x['dfbeta-x6']) > cutoff) | (abs(x['dfbeta-x7']) > cutoff) | (abs(x['dfbeta-x8']) > cutoff) | (abs(x['dfbeta-x9']) > cutoff) | (abs(x['dfbeta-y']) > cutoff), axis = 1)]"
   ]
  },
  {
   "cell_type": "code",
   "execution_count": 601,
   "id": "d72415c5-77f2-49c7-93ef-bb71bb13c774",
   "metadata": {},
   "outputs": [
    {
     "data": {
      "text/html": [
       "<div>\n",
       "<style scoped>\n",
       "    .dataframe tbody tr th:only-of-type {\n",
       "        vertical-align: middle;\n",
       "    }\n",
       "\n",
       "    .dataframe tbody tr th {\n",
       "        vertical-align: top;\n",
       "    }\n",
       "\n",
       "    .dataframe thead th {\n",
       "        text-align: right;\n",
       "    }\n",
       "</style>\n",
       "<table border=\"1\" class=\"dataframe\">\n",
       "  <thead>\n",
       "    <tr style=\"text-align: right;\">\n",
       "      <th></th>\n",
       "      <th>dffits</th>\n",
       "    </tr>\n",
       "  </thead>\n",
       "  <tbody>\n",
       "    <tr>\n",
       "      <th>1</th>\n",
       "      <td>2.497535</td>\n",
       "    </tr>\n",
       "    <tr>\n",
       "      <th>7</th>\n",
       "      <td>-1.231723</td>\n",
       "    </tr>\n",
       "    <tr>\n",
       "      <th>14</th>\n",
       "      <td>-2.478198</td>\n",
       "    </tr>\n",
       "    <tr>\n",
       "      <th>22</th>\n",
       "      <td>-1.092902</td>\n",
       "    </tr>\n",
       "    <tr>\n",
       "      <th>30</th>\n",
       "      <td>2.941484</td>\n",
       "    </tr>\n",
       "    <tr>\n",
       "      <th>38</th>\n",
       "      <td>0.982903</td>\n",
       "    </tr>\n",
       "    <tr>\n",
       "      <th>39</th>\n",
       "      <td>-3.856497</td>\n",
       "    </tr>\n",
       "  </tbody>\n",
       "</table>\n",
       "</div>"
      ],
      "text/plain": [
       "      dffits\n",
       "1   2.497535\n",
       "7  -1.231723\n",
       "14 -2.478198\n",
       "22 -1.092902\n",
       "30  2.941484\n",
       "38  0.982903\n",
       "39 -3.856497"
      ]
     },
     "execution_count": 601,
     "metadata": {},
     "output_type": "execute_result"
    }
   ],
   "source": [
    "# DFFITS\n",
    "cutoff = 2*np.sqrt(9/df.shape[0])\n",
    "dffits = pd.DataFrame({'dffits':influence2.dffits[0]})\n",
    "dffits[abs(dffits.values) > cutoff]"
   ]
  },
  {
   "cell_type": "code",
   "execution_count": 602,
   "id": "7466ea7b-8ed5-4a97-964f-13ece48bffb3",
   "metadata": {},
   "outputs": [
    {
     "data": {
      "text/html": [
       "<div>\n",
       "<style scoped>\n",
       "    .dataframe tbody tr th:only-of-type {\n",
       "        vertical-align: middle;\n",
       "    }\n",
       "\n",
       "    .dataframe tbody tr th {\n",
       "        vertical-align: top;\n",
       "    }\n",
       "\n",
       "    .dataframe thead th {\n",
       "        text-align: right;\n",
       "    }\n",
       "</style>\n",
       "<table border=\"1\" class=\"dataframe\">\n",
       "  <thead>\n",
       "    <tr style=\"text-align: right;\">\n",
       "      <th></th>\n",
       "      <th>covratio</th>\n",
       "    </tr>\n",
       "  </thead>\n",
       "  <tbody>\n",
       "    <tr>\n",
       "      <th>1</th>\n",
       "      <td>6.726040</td>\n",
       "    </tr>\n",
       "    <tr>\n",
       "      <th>3</th>\n",
       "      <td>2.458653</td>\n",
       "    </tr>\n",
       "    <tr>\n",
       "      <th>6</th>\n",
       "      <td>2.244146</td>\n",
       "    </tr>\n",
       "    <tr>\n",
       "      <th>7</th>\n",
       "      <td>2.550772</td>\n",
       "    </tr>\n",
       "    <tr>\n",
       "      <th>14</th>\n",
       "      <td>2.925234</td>\n",
       "    </tr>\n",
       "    <tr>\n",
       "      <th>27</th>\n",
       "      <td>1.928948</td>\n",
       "    </tr>\n",
       "    <tr>\n",
       "      <th>30</th>\n",
       "      <td>24.477858</td>\n",
       "    </tr>\n",
       "    <tr>\n",
       "      <th>33</th>\n",
       "      <td>2.436121</td>\n",
       "    </tr>\n",
       "    <tr>\n",
       "      <th>34</th>\n",
       "      <td>3.123791</td>\n",
       "    </tr>\n",
       "    <tr>\n",
       "      <th>38</th>\n",
       "      <td>2.256824</td>\n",
       "    </tr>\n",
       "    <tr>\n",
       "      <th>39</th>\n",
       "      <td>9.193533</td>\n",
       "    </tr>\n",
       "  </tbody>\n",
       "</table>\n",
       "</div>"
      ],
      "text/plain": [
       "     covratio\n",
       "1    6.726040\n",
       "3    2.458653\n",
       "6    2.244146\n",
       "7    2.550772\n",
       "14   2.925234\n",
       "27   1.928948\n",
       "30  24.477858\n",
       "33   2.436121\n",
       "34   3.123791\n",
       "38   2.256824\n",
       "39   9.193533"
      ]
     },
     "execution_count": 602,
     "metadata": {},
     "output_type": "execute_result"
    }
   ],
   "source": [
    "#COVRATIO \n",
    "Covratio = pd.DataFrame({'covratio': influence2.cov_ratio})\n",
    "Covratio[abs(Covratio.values - 1) > 3*(df.shape[1]+1)/df.shape[0]]"
   ]
  },
  {
   "cell_type": "code",
   "execution_count": 603,
   "id": "c61f7be1-4ebb-4d64-84db-334a2ac826f3",
   "metadata": {},
   "outputs": [
    {
     "data": {
      "text/html": [
       "<div>\n",
       "<style scoped>\n",
       "    .dataframe tbody tr th:only-of-type {\n",
       "        vertical-align: middle;\n",
       "    }\n",
       "\n",
       "    .dataframe tbody tr th {\n",
       "        vertical-align: top;\n",
       "    }\n",
       "\n",
       "    .dataframe thead th {\n",
       "        text-align: right;\n",
       "    }\n",
       "</style>\n",
       "<table border=\"1\" class=\"dataframe\">\n",
       "  <thead>\n",
       "    <tr style=\"text-align: right;\">\n",
       "      <th></th>\n",
       "      <th>covratio</th>\n",
       "    </tr>\n",
       "  </thead>\n",
       "  <tbody>\n",
       "    <tr>\n",
       "      <th>9</th>\n",
       "      <td>0.734816</td>\n",
       "    </tr>\n",
       "    <tr>\n",
       "      <th>10</th>\n",
       "      <td>0.916021</td>\n",
       "    </tr>\n",
       "    <tr>\n",
       "      <th>15</th>\n",
       "      <td>0.279307</td>\n",
       "    </tr>\n",
       "    <tr>\n",
       "      <th>20</th>\n",
       "      <td>0.455066</td>\n",
       "    </tr>\n",
       "    <tr>\n",
       "      <th>22</th>\n",
       "      <td>0.279831</td>\n",
       "    </tr>\n",
       "    <tr>\n",
       "      <th>23</th>\n",
       "      <td>0.954732</td>\n",
       "    </tr>\n",
       "    <tr>\n",
       "      <th>26</th>\n",
       "      <td>0.729229</td>\n",
       "    </tr>\n",
       "    <tr>\n",
       "      <th>36</th>\n",
       "      <td>0.499926</td>\n",
       "    </tr>\n",
       "  </tbody>\n",
       "</table>\n",
       "</div>"
      ],
      "text/plain": [
       "    covratio\n",
       "9   0.734816\n",
       "10  0.916021\n",
       "15  0.279307\n",
       "20  0.455066\n",
       "22  0.279831\n",
       "23  0.954732\n",
       "26  0.729229\n",
       "36  0.499926"
      ]
     },
     "execution_count": 603,
     "metadata": {},
     "output_type": "execute_result"
    }
   ],
   "source": [
    "Covratio[Covratio.values < 1]"
   ]
  },
  {
   "cell_type": "markdown",
   "id": "0ee0faf5-6501-481f-b406-3d74512ca080",
   "metadata": {},
   "source": [
    "Based on the measures of influence, I will convert observations 1,3,7,14,15,30,34,36 and 39 into the mean or median values of their respective columns since removing them would be too many data points to be removed considering we only have 40 observations. <br>If I remove this points my results will be more biased. "
   ]
  },
  {
   "cell_type": "code",
   "execution_count": 668,
   "id": "4b388f78-3286-4d75-89de-cccb7fb33af3",
   "metadata": {},
   "outputs": [],
   "source": [
    "# Decided to drop observation 39  and 15 as they were really different from the rest of the points and I assume it is an influential point. \n",
    "df3 = df2.copy()\n",
    "df3.drop([1,15],inplace=True) \n"
   ]
  },
  {
   "cell_type": "code",
   "execution_count": 669,
   "id": "7958441a-621f-4d01-816c-58f3fdf4160f",
   "metadata": {},
   "outputs": [
    {
     "name": "stdout",
     "output_type": "stream",
     "text": [
      "                            OLS Regression Results                            \n",
      "==============================================================================\n",
      "Dep. Variable:                      y   R-squared:                       0.730\n",
      "Model:                            OLS   Adj. R-squared:                  0.644\n",
      "Method:                 Least Squares   F-statistic:                     8.421\n",
      "Date:                Tue, 18 Oct 2022   Prob (F-statistic):           5.80e-06\n",
      "Time:                        20:59:15   Log-Likelihood:                -28.520\n",
      "No. Observations:                  38   AIC:                             77.04\n",
      "Df Residuals:                      28   BIC:                             93.42\n",
      "Df Model:                           9                                         \n",
      "Covariance Type:            nonrobust                                         \n",
      "==============================================================================\n",
      "                 coef    std err          t      P>|t|      [0.025      0.975]\n",
      "------------------------------------------------------------------------------\n",
      "Intercept  -2.914e-16      0.097  -3.01e-15      1.000      -0.198       0.198\n",
      "x1            -0.2525      0.141     -1.787      0.085      -0.542       0.037\n",
      "x2             0.8749      0.285      3.065      0.005       0.290       1.460\n",
      "x3            -0.3888      0.276     -1.409      0.170      -0.954       0.177\n",
      "x4            -0.1232      0.384     -0.321      0.750      -0.909       0.663\n",
      "x5             1.7617      0.335      5.263      0.000       1.076       2.447\n",
      "x6            -0.3615      0.254     -1.425      0.165      -0.881       0.158\n",
      "x7            -0.5487      0.426     -1.288      0.208      -1.422       0.324\n",
      "x8            -0.1364      0.297     -0.459      0.650      -0.745       0.473\n",
      "x9            -0.0183      0.125     -0.147      0.884      -0.273       0.237\n",
      "==============================================================================\n",
      "Omnibus:                        0.090   Durbin-Watson:                   1.722\n",
      "Prob(Omnibus):                  0.956   Jarque-Bera (JB):                0.283\n",
      "Skew:                           0.072   Prob(JB):                        0.868\n",
      "Kurtosis:                       2.603   Cond. No.                         11.5\n",
      "==============================================================================\n",
      "\n",
      "Notes:\n",
      "[1] Standard Errors assume that the covariance matrix of the errors is correctly specified.\n"
     ]
    }
   ],
   "source": [
    "df3_scale = (df3 - df3.mean())/df3.std()\n",
    "\n",
    "df3_regression = ols('y~x1+x2+x3+x4+x5+x6+x7+x8+x9', df3_scale).fit()\n",
    "print(df3_regression.summary())"
   ]
  },
  {
   "cell_type": "markdown",
   "id": "de6aa477-e8be-429f-b70e-b3e2290cdf24",
   "metadata": {},
   "source": [
    "<div class = 'alert alert-warning'>\n",
    "I tried converting high leverage points and other points that might be influential into averages and median values of their respecitve columns but the regression results were worse than if I did not touch them so I decided to leave them as they are. Because there are several high leverage points that could be influential, if I change all these values for the respective observation, our fit changes a lot. Since the data shifts, we get new high leverage points and the cycle of removing/changing and identifying leverage points doesn't end.\n",
    "      <br>  <br> I decided to only remove observations 1 and 15 and got a more decent regression result. (not that okay with this because now I only have 38 observations to give me all the information I need from this data)\n",
    "    </div>"
   ]
  },
  {
   "cell_type": "code",
   "execution_count": 670,
   "id": "1b7b602e-89df-46dc-8905-9850fb60878f",
   "metadata": {},
   "outputs": [],
   "source": [
    "df3_pred = df3_regression.predict()"
   ]
  },
  {
   "cell_type": "code",
   "execution_count": 671,
   "id": "ec8fb771-1f96-4ff1-9ab0-b3566c2e2742",
   "metadata": {},
   "outputs": [
    {
     "data": {
      "image/png": "[encoded data removed]",
      "text/plain": [
       "<Figure size 864x576 with 1 Axes>"
      ]
     },
     "metadata": {
      "needs_background": "light"
     },
     "output_type": "display_data"
    }
   ],
   "source": [
    "a = df3_regression.model.wexog # get the design matrix\n",
    "b = sm.OLS(df3['y'], sm.add_constant(a)).fit()\n",
    "\n",
    "## Plot the leverage vs residuals graph\n",
    "fig, ax = plt.subplots(figsize=(12,8))\n",
    "fig = sm.graphics.influence_plot(b, alpha  = 0.05, ax = ax, criterion=\"cooks\")"
   ]
  },
  {
   "cell_type": "code",
   "execution_count": 672,
   "id": "229d56c8-dd11-4b29-8ace-6addd1cba891",
   "metadata": {},
   "outputs": [
    {
     "data": {
      "image/png": "[encoded data removed]",
      "text/plain": [
       "<Figure size 432x288 with 1 Axes>"
      ]
     },
     "metadata": {
      "needs_background": "light"
     },
     "output_type": "display_data"
    },
    {
     "data": {
      "text/plain": [
       "<Figure size 576x432 with 0 Axes>"
      ]
     },
     "metadata": {},
     "output_type": "display_data"
    }
   ],
   "source": [
    "# Q-Q plot: helps determine if the residuals follow a normal distribution. Data should roughly follow a 45 degree angle.\n",
    "residuals3 = df3_regression.resid\n",
    "fig = sm.qqplot(residuals3, fit = True, line= '45')\n",
    "f = plt.figure()\n",
    "f.set_figwidth(8)\n",
    "f.set_figheight(6)\n",
    "plt.show()"
   ]
  },
  {
   "cell_type": "markdown",
   "id": "ee60d029-73da-4c24-acc2-a05634ff5017",
   "metadata": {},
   "source": [
    "Normality assumption is good enough."
   ]
  },
  {
   "cell_type": "code",
   "execution_count": 673,
   "id": "5a3878bc-5330-406b-a629-fbe1cc608b9d",
   "metadata": {},
   "outputs": [
    {
     "data": {
      "image/png": "[encoded data removed]",
      "text/plain": [
       "<Figure size 2160x432 with 4 Axes>"
      ]
     },
     "metadata": {
      "needs_background": "light"
     },
     "output_type": "display_data"
    }
   ],
   "source": [
    "influence3 = df3_regression.get_influence()\n",
    "f, ax = plt.subplots(figsize=(30,6))\n",
    "\n",
    "plt.subplot(1, 4, 1)\n",
    "plt.scatter(df3_regression.fittedvalues,df3_regression.resid)\n",
    "plt.axhline(0)\n",
    "plt.xlabel('Fitted values')\n",
    "plt.ylabel('Residuals')\n",
    "\n",
    "# Standardized Residuals\n",
    "standard_residual = influence3.resid/np.sqrt(df3_regression.mse_resid)\n",
    "plt.subplot(1, 4, 2) \n",
    "plt.scatter(df3_regression.fittedvalues,standard_residual)\n",
    "plt.xlabel('Fitted values')\n",
    "plt.ylabel('Standardized Residual')\n",
    "# plt.title(\"\")\n",
    "plt.axhline(0)\n",
    "\n",
    "# Studentized Residuals\n",
    "plt.subplot(1, 4, 3) \n",
    "plt.scatter(df3_regression.fittedvalues,influence3.resid_studentized)\n",
    "plt.xlabel('Fitted values')\n",
    "plt.ylabel('Studentized Residual, t_i')\n",
    "# plt.title(\"\")\n",
    "plt.axhline(0)\n",
    "\n",
    "# R-Studentized Residuals external\n",
    "plt.subplot(1, 4, 4) \n",
    "plt.scatter(df3_regression.fittedvalues,influence3.resid_studentized_external)\n",
    "plt.xlabel('Fitted values')\n",
    "plt.ylabel('R-Student Residual')\n",
    "#plt.title(\"\")\n",
    "plt.axhline(0)\n",
    "\n",
    "plt.show()"
   ]
  },
  {
   "cell_type": "markdown",
   "id": "d4157ab4-7f87-40ed-8403-5d6ae879bc28",
   "metadata": {},
   "source": [
    "After transforming the the response variable and y and x9 as well as removing 2 outliers, we see that our data is way more spread than before, still we have a several outliers that should be dealt with and there seems to be a pattern to the distribution of the residuals vs. fitted values."
   ]
  },
  {
   "cell_type": "markdown",
   "id": "0f880b27-93fc-4ca9-86f9-ac26c5929e46",
   "metadata": {},
   "source": [
    "### Multicollinearity\n",
    "\n",
    "Multicollinearity occurs when there is a high correlation between the independent variables in the regression analysis which impacts the overall interpretation of the results. It reduces the power of coefficients and weakens the statistical measure to trust the p-values to identify the significant independent variables. Hence, we would not be able to examine the individual explanation of the independent variables on the dependent variable.\n",
    "<br>\n",
    "<br>\n",
    "To fix multicollinearity we can either combine collinear variables or drop them from our model where the same information is being captured by other variables. "
   ]
  },
  {
   "cell_type": "markdown",
   "id": "96d01c81-ff71-4c7a-9aec-a3a807edd938",
   "metadata": {},
   "source": [
    "##### Principal Component Analysis (PCA)"
   ]
  },
  {
   "cell_type": "code",
   "execution_count": 675,
   "id": "efa79c30-2268-4b80-aecf-f57599d80e0a",
   "metadata": {},
   "outputs": [],
   "source": [
    "from sklearn.preprocessing import scale \n",
    "from sklearn import model_selection\n",
    "from sklearn.model_selection import RepeatedKFold\n",
    "from sklearn.model_selection import train_test_split\n",
    "from sklearn.decomposition import PCA\n",
    "from sklearn.linear_model import LinearRegression\n",
    "from sklearn.metrics import mean_squared_error"
   ]
  },
  {
   "cell_type": "code",
   "execution_count": 676,
   "id": "d9e8bd30-3a3e-42de-8da0-c9e5a5b18177",
   "metadata": {},
   "outputs": [],
   "source": [
    "pca = PCA()"
   ]
  },
  {
   "cell_type": "code",
   "execution_count": 677,
   "id": "e1d8fa78-04ee-454f-bee5-9de7af7a86f4",
   "metadata": {},
   "outputs": [
    {
     "data": {
      "text/plain": [
       "Text(0.5, 1.0, 'y: Solid Waste')"
      ]
     },
     "execution_count": 677,
     "metadata": {},
     "output_type": "execute_result"
    },
    {
     "data": {
      "image/png": "[encoded data removed]",
      "text/plain": [
       "<Figure size 432x288 with 1 Axes>"
      ]
     },
     "metadata": {
      "needs_background": "light"
     },
     "output_type": "display_data"
    }
   ],
   "source": [
    "#define predictor and response variables\n",
    "X = df3[[\"x1\", \"x2\", \"x3\", \"x4\", \"x5\", \"x6\", \"x7\", \"x8\", \"x9\"]]\n",
    "y = df3[[\"y\"]]\n",
    "\n",
    "#scale predictor variables\n",
    "df3_reduced = pca.fit_transform(scale(X))\n",
    "\n",
    "#define cross validation method\n",
    "cv = RepeatedKFold(n_splits=10, n_repeats=3, random_state=1)\n",
    "\n",
    "regr = LinearRegression()\n",
    "mse = []\n",
    "\n",
    "# Calculate MSE with only the intercept\n",
    "score = -1*model_selection.cross_val_score(regr,\n",
    "           np.ones((len(df3_reduced),1)), y, cv=cv,\n",
    "           scoring='neg_mean_squared_error').mean()    \n",
    "mse.append(score)\n",
    "\n",
    "# Calculate MSE using cross-validation, adding one component at a time\n",
    "for i in np.arange(1, 6):\n",
    "    score = -1*model_selection.cross_val_score(regr,\n",
    "               df3_reduced[:,:i], y, cv=cv, scoring='neg_mean_squared_error').mean()\n",
    "    mse.append(score)\n",
    "    \n",
    "# Plot cross-validation results    \n",
    "plt.plot(mse)\n",
    "plt.xlabel('Number of Principal Components')\n",
    "plt.ylabel('MSE')\n",
    "plt.title('y: Solid Waste')"
   ]
  },
  {
   "cell_type": "markdown",
   "id": "37a20d5c-c378-4d06-bd2e-d4c2c05297b3",
   "metadata": {},
   "source": [
    "<div class = 'alert alert-warning'>\n",
    "From the PCA plot we can see that the test MSE decreases by adding in two principal components, yet it begins to increase as we add more than two principal components. </div>"
   ]
  },
  {
   "cell_type": "markdown",
   "id": "689f88c0-2f77-4be2-99c2-f80168631702",
   "metadata": {},
   "source": [
    "Percentage of variance in the response variable explained by adding in each principal component to the model:"
   ]
  },
  {
   "cell_type": "code",
   "execution_count": 678,
   "id": "d39f99b6-9e3e-4bc3-902b-c89c83105f85",
   "metadata": {},
   "outputs": [
    {
     "data": {
      "text/plain": [
       "array([51.46, 75.17, 87.79, 94.3 , 97.22, 98.33, 99.08, 99.6 , 99.99])"
      ]
     },
     "execution_count": 678,
     "metadata": {},
     "output_type": "execute_result"
    }
   ],
   "source": [
    "np.cumsum(np.round(pca.explained_variance_ratio_, decimals=4)*100)"
   ]
  },
  {
   "cell_type": "markdown",
   "id": "795a8cd1-3f6e-4c15-a27b-60072df79af9",
   "metadata": {},
   "source": [
    "Final Model to Make Predictions:"
   ]
  },
  {
   "cell_type": "code",
   "execution_count": 679,
   "id": "73f58e99-dcdd-4c94-89a3-77a68d85d1b0",
   "metadata": {},
   "outputs": [
    {
     "data": {
      "text/plain": [
       "0.534674503051293"
      ]
     },
     "execution_count": 679,
     "metadata": {},
     "output_type": "execute_result"
    }
   ],
   "source": [
    "#split the dataset into training (70%) and testing (30%) sets\n",
    "X_train,X_test,y_train,y_test = train_test_split(X,y,test_size=0.3,random_state=0) \n",
    "\n",
    "#scale the training and testing data\n",
    "X_reduced_train = pca.fit_transform(scale(X_train))\n",
    "X_reduced_test = pca.transform(scale(X_test))[:,:1]\n",
    "\n",
    "#train PCR model on training data \n",
    "regr = LinearRegression()\n",
    "regr.fit(X_reduced_train[:,:1], y_train)\n",
    "\n",
    "#calculate RMSE\n",
    "pred = regr.predict(X_reduced_test)\n",
    "np.sqrt(mean_squared_error(y_test, pred))"
   ]
  },
  {
   "cell_type": "markdown",
   "id": "290700b1-76b7-48cf-af5a-476fb1faaf58",
   "metadata": {},
   "source": [
    "<div class = 'alert alert-warning'>\n",
    "This is the point estimate from the model after training and testing the data.  0.5346 is the average deviation between the predicted value for Solid Waste and the observed value for Solid Waste for the observations in the testing set. </div>"
   ]
  },
  {
   "cell_type": "markdown",
   "id": "553055cb-3626-4413-a2c9-cf04555b2914",
   "metadata": {},
   "source": [
    "Based on the percentage of variance explained I decided to use 4 regressors: x1, x2, and x5"
   ]
  },
  {
   "cell_type": "code",
   "execution_count": 722,
   "id": "dc861f08-ad73-4fe4-8862-4fee78bdab43",
   "metadata": {},
   "outputs": [
    {
     "name": "stdout",
     "output_type": "stream",
     "text": [
      "                            OLS Regression Results                            \n",
      "==============================================================================\n",
      "Dep. Variable:                      y   R-squared:                       0.604\n",
      "Model:                            OLS   Adj. R-squared:                  0.569\n",
      "Method:                 Least Squares   F-statistic:                     17.25\n",
      "Date:                Tue, 18 Oct 2022   Prob (F-statistic):           5.56e-07\n",
      "Time:                        21:42:55   Log-Likelihood:                -35.836\n",
      "No. Observations:                  38   AIC:                             79.67\n",
      "Df Residuals:                      34   BIC:                             86.22\n",
      "Df Model:                           3                                         \n",
      "Covariance Type:            nonrobust                                         \n",
      "==============================================================================\n",
      "                 coef    std err          t      P>|t|      [0.025      0.975]\n",
      "------------------------------------------------------------------------------\n",
      "Intercept  -2.914e-16      0.107  -2.73e-15      1.000      -0.217       0.217\n",
      "x1            -0.0758      0.121     -0.628      0.534      -0.321       0.169\n",
      "x2             0.3885      0.117      3.310      0.002       0.150       0.627\n",
      "x5             0.6788      0.111      6.100      0.000       0.453       0.905\n",
      "==============================================================================\n",
      "Omnibus:                        0.285   Durbin-Watson:                   1.349\n",
      "Prob(Omnibus):                  0.867   Jarque-Bera (JB):                0.242\n",
      "Skew:                          -0.174   Prob(JB):                        0.886\n",
      "Kurtosis:                       2.823   Cond. No.                         1.62\n",
      "==============================================================================\n",
      "\n",
      "Notes:\n",
      "[1] Standard Errors assume that the covariance matrix of the errors is correctly specified.\n"
     ]
    }
   ],
   "source": [
    "reduced_model = ols('y~x1+x2+x5', data = df3_scale).fit()\n",
    "print(reduced_model.summary())"
   ]
  },
  {
   "cell_type": "markdown",
   "id": "fc3ec8ed-37d2-4d82-ab68-c2aa24af73b8",
   "metadata": {},
   "source": [
    "---"
   ]
  },
  {
   "cell_type": "markdown",
   "id": "faa108ab-29db-4bb5-8262-ed5e8a0f7eb5",
   "metadata": {},
   "source": [
    "### **NEW PREDICTION EQUATION:**\n",
    "<div class = 'alert alert-success'>\n",
    "$y^*$ = -2.914e-16  - 0.1638$Xindus$ - 0.5882$Xmetal$  - 0.0005$Xretail$ +  1.2108$Xrest$ "
   ]
  },
  {
   "cell_type": "markdown",
   "id": "6b71cbfa-2e5c-4bc7-930e-c5de518fc75f",
   "metadata": {},
   "source": [
    "**(c) Compare the final prediction equation obtained in part 5(b) to the one you obtained in Problem\n",
    "part 1(b). State your results. State which equation you prefer and the rationale for your decision.**\n"
   ]
  },
  {
   "cell_type": "markdown",
   "id": "c7f58953-c3c6-4b5b-9816-0e5bc583c1b3",
   "metadata": {},
   "source": [
    "<div class = 'alert alert-success'>\n",
    "Comparing the prediction equation obtained from 1(b) to the one obtained in 5(b), the better equation is the one for 5(b) because I have dealt with multicollinearity, transformations that were needed to meet the assumptions of a Multiple Linear Regression model and have removed any outlier/influential point. \n",
    "    \n",
    "**I have to admit that the transformations I made and the predictors removed to try and resolve multicollinearity might not have been the best since the information criterias for the full, untransformed model is lower than the reduced model.** \n",
    "    \n",
    "The lower information criterias score indicate that the full model is better. The AIC could be over-fit since it is a more flexible model when compared to BIC, but still, both criterions showed to be much lower for the full model compared to the reduced model. R-squared and log likelihood are higher for the full model, showing a better fit as well.\n",
    "    \n",
    "Knowing that the data had outliers, influential points and multicollinearity problems, I conclude that the reduced model is better since the results of the full model are deteriorate by hiding effects, increasing variances, affecting the slope of our model, and overall just decrementing the performance of our model. These problems are not evident, so we need to be careful to not just fit a regression model and choose the one with the highest R-squared and lowest MSE.\n",
    "</div>"
   ]
  },
  {
   "cell_type": "markdown",
   "id": "88050f45-2997-4307-9fc5-db5f8d07ba74",
   "metadata": {},
   "source": [
    "\n",
    "![UTSA Logo](https://external-content.duckduckgo.com/iu/?u=https%3A%2F%2Ftse2.mm.bing.net%2Fth%3Fid%3DOIP.M5HebCzrq8VtGJqCH47pSAHaDU%26pid%3DApi&f=1)"
   ]
  },
  {
   "cell_type": "markdown",
   "id": "4118b086-ec7d-42c4-829b-db52616dbeda",
   "metadata": {},
   "source": [
    "---"
   ]
  },
  {
   "cell_type": "markdown",
   "id": "5498428f-2cce-4f45-99e9-d5ec71fab2a5",
   "metadata": {},
   "source": [
    "\n",
    "<div class = 'alert alert-info'>\n",
    "THANK YOU!\n",
    "</div>"
   ]
  }
 ],
 "metadata": {
  "kernelspec": {
   "display_name": "Python 3 (ipykernel)",
   "language": "python",
   "name": "python3"
  },
  "language_info": {
   "codemirror_mode": {
    "name": "ipython",
    "version": 3
   },
   "file_extension": ".py",
   "mimetype": "text/x-python",
   "name": "python",
   "nbconvert_exporter": "python",
   "pygments_lexer": "ipython3",
   "version": "3.8.13"
  }
 },
 "nbformat": 4,
 "nbformat_minor": 5
}
